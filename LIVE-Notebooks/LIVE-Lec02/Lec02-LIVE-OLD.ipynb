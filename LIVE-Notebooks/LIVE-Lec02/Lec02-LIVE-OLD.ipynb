{
 "cells": [
  {
   "cell_type": "markdown",
   "metadata": {},
   "source": [
    "# Lecture 2 Live Exercises\n",
    "\n",
    "## Nota Bene\n",
    "\n",
    "Going forward, LIVE lecture notebooks must be submitted and will be graded. This is the schedule:\n",
    "\n",
    "- Monday's LIVE lecture notebooks must be submitted by Saturday 11:59pm\n",
    "- Wednesday's LIVE lecture notebooks must be submitted by Monday at 11:59pm\n",
    "\n",
    "This notebook will include Lecture 1 and Lecture 2 exercises.\n",
    "\n",
    "## Lecture 1 Recap\n",
    "- Variable Assignment, which is an example of a **definition**\n",
    "- Arithmetical Commands, which are examples of **commands**\n",
    "    - Addition ``+``\n",
    "    - Subtraction ``-``\n",
    "    - Multiplication ``*``\n",
    "    - Division ``/``\n",
    "    - Exponentiation ``**``\n",
    "- The `print` command\n",
    "- Object Types and type conversion\n",
    "    - ``int``\n",
    "    - ``float``\n",
    "    - ``bool``\n",
    "    - ``None``\n",
    "- Overloading\n",
    "- Defining functions\n",
    "- The `input` function\n",
    "\n",
    "## Lecture 2 Recap\n",
    "\n",
    "- If-then logic\n",
    "- Branching Programs\n",
    "- Iteration\n",
    "- Loops"
   ]
  },
  {
   "cell_type": "markdown",
   "metadata": {},
   "source": [
    "### Q1: Area of a Triangle (2pts)\n",
    "\n",
    "Write a function `area_of_triangle(b,h)` that returns the area of a triangle with base `b` and height `h`"
   ]
  },
  {
   "cell_type": "code",
   "execution_count": null,
   "metadata": {},
   "outputs": [],
   "source": []
  },
  {
   "cell_type": "markdown",
   "metadata": {},
   "source": [
    "### Q2: Converting from Fahrenheit to Celsius (2pts)\n",
    "\n",
    "Write a function `F2C(x)` that takes in a input temperature `x` measured in Fahrenheit and returns the temperature measured in Celsius."
   ]
  },
  {
   "cell_type": "code",
   "execution_count": null,
   "metadata": {},
   "outputs": [],
   "source": []
  },
  {
   "cell_type": "markdown",
   "metadata": {},
   "source": [
    "### Q3: Largest of Three (2pts)\n",
    "\n",
    "Write a function `largest_of_3(x,y,z)` that returns the largest of the three inputs."
   ]
  },
  {
   "cell_type": "code",
   "execution_count": null,
   "metadata": {},
   "outputs": [],
   "source": []
  },
  {
   "cell_type": "markdown",
   "metadata": {},
   "source": [
    "### Q4: Largest Odd number (2pts)\n",
    "\n",
    "Write a function `largest_of_3odd(x,y,z)` and returns the largest odd number among the inputs."
   ]
  },
  {
   "cell_type": "code",
   "execution_count": null,
   "metadata": {},
   "outputs": [],
   "source": []
  },
  {
   "cell_type": "markdown",
   "metadata": {},
   "source": [
    "### Q5: Largest of 10 (3pts, manually graded)\n",
    "\n",
    "Write a program that asks for the user to input 10 positive integers and then prints the largest odd number entered. If no odd integer was entered, print a message to this effect."
   ]
  },
  {
   "cell_type": "code",
   "execution_count": null,
   "metadata": {},
   "outputs": [],
   "source": []
  }
 ],
 "metadata": {
  "kernelspec": {
   "display_name": "Python 3",
   "language": "python",
   "name": "python3"
  },
  "language_info": {
   "codemirror_mode": {
    "name": "ipython",
    "version": 3
   },
   "file_extension": ".py",
   "mimetype": "text/x-python",
   "name": "python",
   "nbconvert_exporter": "python",
   "pygments_lexer": "ipython3",
   "version": "3.7.4"
  }
 },
 "nbformat": 4,
 "nbformat_minor": 2
}
