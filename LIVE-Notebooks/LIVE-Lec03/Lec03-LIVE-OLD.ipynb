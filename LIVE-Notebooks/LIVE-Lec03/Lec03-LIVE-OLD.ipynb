{
 "cells": [
  {
   "cell_type": "markdown",
   "metadata": {},
   "source": [
    "\n",
    "# Lecture 2 Recap\n",
    "\n",
    "In lecture 2 we talked about \n",
    "- `if`...`elif` statements\n",
    "- `while` loops\n",
    "- `for` loops"
   ]
  },
  {
   "cell_type": "markdown",
   "metadata": {},
   "source": [
    "# Lecture 3 Recap\n",
    "\n",
    "In lecture 3 we talked about\n",
    "- linear search vs. bisection search\n",
    "- how to compute square roots using both of these \"search\" methods\n",
    "- functions and the `NoneType`"
   ]
  },
  {
   "cell_type": "markdown",
   "metadata": {},
   "source": [
    "# Due Dates\n",
    "\n",
    "- Submit PS00 as soon as you can.\n",
    "- PS01 is due by Friday, September 4th at midnight, assuming the JupyterHub server is working.\n",
    "- PF02 is due by Wednesday, September 9th at midnight."
   ]
  },
  {
   "cell_type": "markdown",
   "metadata": {},
   "source": [
    "# Lecture 2 Live Exercises\n",
    "\n",
    "## Q1: Oral Explanation Question\n",
    "**In your breakout rooms, spend 5-10 minutes discussing the behavior of the following program. Then move onto the next two exercises.**\n",
    "\n",
    "Your instructors will come by and ask for someone to explain it in your group."
   ]
  },
  {
   "cell_type": "code",
   "execution_count": 3,
   "metadata": {},
   "outputs": [
    {
     "name": "stdout",
     "output_type": "stream",
     "text": [
      "0\n",
      "1\n",
      "2\n",
      "3\n",
      "0\n",
      "1\n",
      "0\n",
      "1\n",
      "0\n",
      "1\n"
     ]
    }
   ],
   "source": [
    "x=4\n",
    "for j in range(x):\n",
    "    for i in range(x):\n",
    "        print(i)\n",
    "        x=2"
   ]
  },
  {
   "cell_type": "markdown",
   "metadata": {},
   "source": [
    "## Q2: Coding Exercise\n",
    "\n",
    "**Write a program that asks for the user to input 5 positive integers (using the `input` function!) and then prints the largest *odd* number entered. If no odd integer was entered, print a message to this effect.**\n",
    "\n",
    "Attempt this on your own for at least 5 minutes before asking your coding buddies."
   ]
  },
  {
   "cell_type": "code",
   "execution_count": null,
   "metadata": {},
   "outputs": [],
   "source": []
  },
  {
   "cell_type": "markdown",
   "metadata": {},
   "source": [
    "## Q3: Coding Exercise\n",
    "\n",
    "**Write a program that takes in a string of decimal numbers, separated by commas, e.g. `s='1.5,6.4,3.8'`, and returns the sum of the integers in each of the decimals.**"
   ]
  },
  {
   "cell_type": "code",
   "execution_count": null,
   "metadata": {},
   "outputs": [],
   "source": []
  },
  {
   "cell_type": "markdown",
   "metadata": {},
   "source": [
    "# Lecture 3 Live Exercises\n",
    "\n",
    "## Q1: Coding Exercise\n",
    "\n",
    "**Modify the following code so that it accurately (i.e. within $\\epsilon$) takes the square root of any non-negative number:**"
   ]
  },
  {
   "cell_type": "code",
   "execution_count": 1,
   "metadata": {},
   "outputs": [],
   "source": [
    "def sqrt(x):\n",
    "    epsilon = 0.001\n",
    "    left = 0\n",
    "    right = x\n",
    "    numGuesses = 0\n",
    "    guess = (right+left)/2.0\n",
    "    while abs(guess**2 - x) > epsilon:\n",
    "        numGuesses += 1\n",
    "        if guess**2 < x:\n",
    "            left = guess\n",
    "        else:\n",
    "            right = guess\n",
    "        guess = (right+left)/2.0\n",
    "    return guess"
   ]
  },
  {
   "cell_type": "code",
   "execution_count": 4,
   "metadata": {},
   "outputs": [
    {
     "data": {
      "text/plain": [
       "0.015625"
      ]
     },
     "execution_count": 4,
     "metadata": {},
     "output_type": "execute_result"
    }
   ],
   "source": [
    "#sqrt(.25) ## Why does this loop forever?\n",
    "(1/8)**2"
   ]
  },
  {
   "cell_type": "markdown",
   "metadata": {},
   "source": [
    "## Q2: Coding Exercise\n",
    "\n",
    "**Write a function that takes the cube root of any real number within $\\epsilon=.001$ of the true answer.**"
   ]
  },
  {
   "cell_type": "code",
   "execution_count": null,
   "metadata": {},
   "outputs": [],
   "source": []
  },
  {
   "cell_type": "markdown",
   "metadata": {},
   "source": [
    "# If you still have time and energy, consider this...\n",
    "\n",
    "## Newton-Raphson Method\n",
    "\n",
    "Computing square roots and cube roots of a number $c$ is really just about trying to solve the equations\n",
    "$$x^2- c =0 \\qquad \\text{and} \\qquad x^3 -c =0. $$\n",
    "\n",
    "Suppose instead you're trying to find a solution to the polynomial equation\n",
    "$$x^3 -10x^2 + 5x + 2 =0$$\n",
    "\n",
    "Newton proved that if you guess that `guess` is a solution to $p(x)=0$, then `guess - p(guess)/p'(guess)` is a better guess, where `p'(guess)` is the derivative of `p` evaluated at `guess`.\n",
    "\n",
    "**Use this to write a program that finds at least one solution to the equation $x^3 -10x^2 + 5x + 2 =0$ within .001 accuracy.**"
   ]
  },
  {
   "cell_type": "code",
   "execution_count": null,
   "metadata": {},
   "outputs": [],
   "source": []
  }
 ],
 "metadata": {
  "kernelspec": {
   "display_name": "Python 3",
   "language": "python",
   "name": "python3"
  },
  "language_info": {
   "codemirror_mode": {
    "name": "ipython",
    "version": 3
   },
   "file_extension": ".py",
   "mimetype": "text/x-python",
   "name": "python",
   "nbconvert_exporter": "python",
   "pygments_lexer": "ipython3",
   "version": "3.7.4"
  }
 },
 "nbformat": 4,
 "nbformat_minor": 2
}
