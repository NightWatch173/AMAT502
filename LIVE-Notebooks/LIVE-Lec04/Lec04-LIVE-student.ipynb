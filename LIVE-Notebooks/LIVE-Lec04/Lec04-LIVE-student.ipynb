{
 "cells": [
  {
   "cell_type": "markdown",
   "metadata": {
    "deletable": false,
    "editable": false,
    "nbgrader": {
     "cell_type": "markdown",
     "checksum": "785d88c6f919514f6a8344e7eb432db0",
     "grade": false,
     "grade_id": "cell-e29ae4a7ead07157",
     "locked": true,
     "schema_version": 3,
     "solution": false,
     "task": false
    }
   },
   "source": [
    "# Lecture 4 Live Exercises\n",
    "\n",
    "In Lecture 4 we covered\n",
    "- Default Values for Functions\n",
    "- Docstrings\n",
    "- Abstraction\n",
    "- Recursion\n",
    "\n",
    "However, to make sure that our Python Greenhorns are getting enough practice, I've arranged problems slightly differently."
   ]
  },
  {
   "cell_type": "markdown",
   "metadata": {
    "deletable": false,
    "editable": false,
    "nbgrader": {
     "cell_type": "markdown",
     "checksum": "f573395f51dfa30dc581c423861c17cb",
     "grade": false,
     "grade_id": "cell-2aafe2f076080860",
     "locked": true,
     "schema_version": 3,
     "solution": false,
     "task": false
    }
   },
   "source": [
    "## Greenhorn Review Exercises\n",
    "\n",
    "**1. Counting Characters: (2pts)** Write a function `char_count(x,y)` that takes in a string and a character and counts how many times that character shows up in that string. For example, for the string `s = 'njksdk#fj5j%jjabd#j'` and character `c = '#'`, `char_count(s,c)` should return `2`."
   ]
  },
  {
   "cell_type": "code",
   "execution_count": 1,
   "metadata": {
    "deletable": false,
    "nbgrader": {
     "cell_type": "code",
     "checksum": "fe490d678f4fd873d9691d105d8b7eb6",
     "grade": false,
     "grade_id": "cell-6da9b74021c6c2a6",
     "locked": false,
     "schema_version": 3,
     "solution": true,
     "task": false
    }
   },
   "outputs": [],
   "source": [
    "def char_count(x,y):\n",
    "    result = 0\n",
    "    for i in x:\n",
    "        if i == y:\n",
    "            result = result +1\n",
    "            #result += 1\n",
    "    return result"
   ]
  },
  {
   "cell_type": "code",
   "execution_count": 2,
   "metadata": {},
   "outputs": [
    {
     "data": {
      "text/plain": [
       "1"
      ]
     },
     "execution_count": 2,
     "metadata": {},
     "output_type": "execute_result"
    }
   ],
   "source": [
    "char_count('apple','e')"
   ]
  },
  {
   "cell_type": "code",
   "execution_count": 3,
   "metadata": {
    "deletable": false,
    "editable": false,
    "nbgrader": {
     "cell_type": "code",
     "checksum": "3e49ef5aca20a8cd7c9f583d5d4fce42",
     "grade": true,
     "grade_id": "cell-a4cdbbe8707ab8db",
     "locked": true,
     "points": 2,
     "schema_version": 3,
     "solution": false,
     "task": false
    }
   },
   "outputs": [],
   "source": [
    "assert char_count('njksdk#fj5j%jjabd#j','#') == 2\n",
    "assert char_count('apple','p') == 2"
   ]
  },
  {
   "cell_type": "markdown",
   "metadata": {
    "deletable": false,
    "editable": false,
    "nbgrader": {
     "cell_type": "markdown",
     "checksum": "6a0a26ae043202e554f8a22e85ae72c8",
     "grade": false,
     "grade_id": "cell-6308540b8984b66a",
     "locked": true,
     "schema_version": 3,
     "solution": false,
     "task": false
    }
   },
   "source": [
    "**2. Repeat Characters: (2 pts)** Write a function `repeat_chars(s,n)` that takes in a string `s` and positive integer `n` and repeats every character in that string *n* times. \n",
    "\n",
    "So `repeat_chars('Hello',4)` should return `'HHHHeeeelllloooo'` and\n",
    "`repeat_chars('apple',2)` should return `aappppllee`."
   ]
  },
  {
   "cell_type": "code",
   "execution_count": 4,
   "metadata": {
    "deletable": false,
    "nbgrader": {
     "cell_type": "code",
     "checksum": "ecdce425b0d6a487bab41c6f508dc3c9",
     "grade": false,
     "grade_id": "cell-fe60408b3548fccb",
     "locked": false,
     "schema_version": 3,
     "solution": true,
     "task": false
    }
   },
   "outputs": [],
   "source": [
    "def repeat_chars(s,n):\n",
    "    result = ''\n",
    "    for i in s:\n",
    "        result = result + n*i\n",
    "    return result"
   ]
  },
  {
   "cell_type": "code",
   "execution_count": 5,
   "metadata": {},
   "outputs": [
    {
     "data": {
      "text/plain": [
       "'gggaaatttooo'"
      ]
     },
     "execution_count": 5,
     "metadata": {},
     "output_type": "execute_result"
    }
   ],
   "source": [
    "repeat_chars('gato',3)"
   ]
  },
  {
   "cell_type": "code",
   "execution_count": null,
   "metadata": {
    "deletable": false,
    "editable": false,
    "nbgrader": {
     "cell_type": "code",
     "checksum": "8f58aa8bf1cf54e7e230b6e3bb361a54",
     "grade": true,
     "grade_id": "cell-cca1acd1905f1a20",
     "locked": true,
     "points": 2,
     "schema_version": 3,
     "solution": false,
     "task": false
    }
   },
   "outputs": [],
   "source": [
    "assert repeat_chars('Hello',4) == 'HHHHeeeelllllllloooo'\n",
    "assert repeat_chars('BATMAN',3) == 'BBBAAATTTMMMAAANNN'"
   ]
  },
  {
   "cell_type": "markdown",
   "metadata": {
    "deletable": false,
    "editable": false,
    "nbgrader": {
     "cell_type": "markdown",
     "checksum": "f9f8fed9b6d1def0a057ca0f9a00daca",
     "grade": false,
     "grade_id": "cell-a12721c95f1551d9",
     "locked": true,
     "schema_version": 3,
     "solution": false,
     "task": false
    }
   },
   "source": [
    "## Lecture 4 Exercises\n",
    "\n",
    "**1. Print numbers, recursively: (2pts)** Write a function `countDown(n)` that uses recursion to return a string that counts down from `n`, separated by `...`, ending with the base case where `n==0`, which should return `Blast Off!`\n",
    "\n",
    "In other words, `countDown(5)` should return the string `'5...4...3...2...1...Blast Off!'`."
   ]
  },
  {
   "cell_type": "code",
   "execution_count": 6,
   "metadata": {
    "deletable": false,
    "nbgrader": {
     "cell_type": "code",
     "checksum": "752ae91b339c7d87f9e02e930862a57c",
     "grade": false,
     "grade_id": "cell-faafbbf32ca6d2a3",
     "locked": false,
     "schema_version": 3,
     "solution": true,
     "task": false
    }
   },
   "outputs": [],
   "source": [
    "def countDown(n):\n",
    "    if n==0:\n",
    "        return 'Blast Off!'\n",
    "    else:\n",
    "        return str(n) + \"...\" + countDown(n-1)"
   ]
  },
  {
   "cell_type": "code",
   "execution_count": 7,
   "metadata": {},
   "outputs": [
    {
     "data": {
      "text/plain": [
       "'3...2...1...Blast Off!'"
      ]
     },
     "execution_count": 7,
     "metadata": {},
     "output_type": "execute_result"
    }
   ],
   "source": [
    "countDown(3)"
   ]
  },
  {
   "cell_type": "code",
   "execution_count": 8,
   "metadata": {
    "deletable": false,
    "editable": false,
    "nbgrader": {
     "cell_type": "code",
     "checksum": "8ec79c4d5f768550746d7074eacc2597",
     "grade": true,
     "grade_id": "cell-a5ef999770143b85",
     "locked": true,
     "points": 2,
     "schema_version": 3,
     "solution": false,
     "task": false
    }
   },
   "outputs": [],
   "source": [
    "assert countDown(3) == '3...2...1...Blast Off!'\n",
    "assert countDown(10) == '10...9...8...7...6...5...4...3...2...1...Blast Off!'"
   ]
  },
  {
   "cell_type": "markdown",
   "metadata": {
    "deletable": false,
    "editable": false,
    "nbgrader": {
     "cell_type": "markdown",
     "checksum": "38e56e39e5436dd4d944e646d588b53f",
     "grade": false,
     "grade_id": "cell-3957787acaf997c4",
     "locked": true,
     "schema_version": 3,
     "solution": false,
     "task": false
    }
   },
   "source": [
    "**2. Triangular Numbers (two parts!): (3 pts)** \n",
    "\n",
    "**Part 1 (2pts)** Write a function called `triang(n)` that uses recursion to return the sum $$n+(n-1)+(n-2)+\\cdots+ 1.$$"
   ]
  },
  {
   "cell_type": "code",
   "execution_count": null,
   "metadata": {
    "deletable": false,
    "nbgrader": {
     "cell_type": "code",
     "checksum": "9f02f0c2d7baa6087222e653d39e9cb4",
     "grade": false,
     "grade_id": "cell-7a06125d6becd5a9",
     "locked": false,
     "schema_version": 3,
     "solution": true,
     "task": false
    }
   },
   "outputs": [],
   "source": [
    "def triang(n):\n",
    "    # YOUR CODE HERE\n",
    "    raise NotImplementedError()"
   ]
  },
  {
   "cell_type": "code",
   "execution_count": null,
   "metadata": {
    "deletable": false,
    "editable": false,
    "nbgrader": {
     "cell_type": "code",
     "checksum": "c9f1416617aa2e30f324b64e03739092",
     "grade": true,
     "grade_id": "cell-22e9d5c528c36298",
     "locked": true,
     "points": 2,
     "schema_version": 3,
     "solution": false,
     "task": false
    }
   },
   "outputs": [],
   "source": [
    "assert triang(3) == 6\n",
    "assert triang(10) == 55"
   ]
  },
  {
   "cell_type": "markdown",
   "metadata": {
    "deletable": false,
    "editable": false,
    "nbgrader": {
     "cell_type": "markdown",
     "checksum": "0c73453220cbf5da67429f256d967e27",
     "grade": false,
     "grade_id": "cell-a9b735cd7d542624",
     "locked": true,
     "schema_version": 3,
     "solution": false,
     "task": false
    }
   },
   "source": [
    "**Q2: Part 2 (1pt- manually graded)** Add a docstring to the code of `triang(n)` so that when you call `help(triang)` it explains what the function does."
   ]
  },
  {
   "cell_type": "code",
   "execution_count": null,
   "metadata": {
    "deletable": false,
    "nbgrader": {
     "cell_type": "code",
     "checksum": "1ef37089195b4fdb8d5cadb51c9e0c0c",
     "grade": true,
     "grade_id": "cell-3e5db8cb418e85cc",
     "locked": false,
     "points": 1,
     "schema_version": 3,
     "solution": true,
     "task": false
    }
   },
   "outputs": [],
   "source": [
    "# YOUR CODE HERE\n",
    "raise NotImplementedError()"
   ]
  },
  {
   "cell_type": "markdown",
   "metadata": {
    "deletable": false,
    "editable": false,
    "nbgrader": {
     "cell_type": "markdown",
     "checksum": "bd61b1dc2508aea5bad6ea80fbe07d54",
     "grade": false,
     "grade_id": "cell-94da9eedb1fe3296",
     "locked": true,
     "schema_version": 3,
     "solution": false,
     "task": false
    }
   },
   "source": [
    "**3. Printing a string backwards and other tricks: (2pts)** \n",
    "\n",
    "For this problem, assume that you only know the following and a little bit of recursion.\n",
    "\n",
    "- You can concatenate two strings using the `+` operation.\n",
    "- If you want to know the length of a string `s`, you can use the command `len(s)`.\n",
    "- If you want to access the $i^{th}$ entry in a string, you can use `s[i]`. Note that this starts counting at 0.\n",
    "- The command `s[i:j]` returns the substring starting at entry number `i` and ends at `j-1`.\n",
    "\n",
    "Use recursion to write a function `printBackwards(x)` that takes in a string and prints it backwards."
   ]
  },
  {
   "cell_type": "code",
   "execution_count": 9,
   "metadata": {
    "deletable": false,
    "nbgrader": {
     "cell_type": "code",
     "checksum": "8c47531771f171f0edcdb03692c22781",
     "grade": false,
     "grade_id": "cell-0bcda8a24408afd5",
     "locked": false,
     "schema_version": 3,
     "solution": true,
     "task": false
    }
   },
   "outputs": [],
   "source": [
    "def printBackwards(x):\n",
    "    if len(x) ==1:\n",
    "        return x\n",
    "    else:\n",
    "        return x[len(x)-1] + printBackwards(x[:len(x)-1])"
   ]
  },
  {
   "cell_type": "code",
   "execution_count": 10,
   "metadata": {},
   "outputs": [
    {
     "data": {
      "text/plain": [
       "'tac'"
      ]
     },
     "execution_count": 10,
     "metadata": {},
     "output_type": "execute_result"
    }
   ],
   "source": [
    "printBackwards('cat')"
   ]
  },
  {
   "cell_type": "code",
   "execution_count": null,
   "metadata": {
    "deletable": false,
    "editable": false,
    "nbgrader": {
     "cell_type": "code",
     "checksum": "14d8e98c2ac12c5df16394ea0fa1064a",
     "grade": true,
     "grade_id": "cell-df0a7f89662a5b0a",
     "locked": true,
     "points": 2,
     "schema_version": 3,
     "solution": false,
     "task": false
    }
   },
   "outputs": [],
   "source": [
    "assert printBackwards('taco') == 'ocat'\n",
    "assert printBackwards('Was it a cat i saW') == 'Was i tac a ti saW'"
   ]
  },
  {
   "cell_type": "markdown",
   "metadata": {
    "deletable": false,
    "editable": false,
    "nbgrader": {
     "cell_type": "markdown",
     "checksum": "ee571a4e728907dedf4301d3fc4e52f5",
     "grade": false,
     "grade_id": "cell-2f23442a2e5f6e21",
     "locked": true,
     "schema_version": 3,
     "solution": false,
     "task": false
    }
   },
   "source": [
    "**4. Testing whether an integer is prime relative to another: (4 pts)**\n",
    "\n",
    "Write a function `isPrime` that takes in an integer `n` and returns whether it is prime or not by recursively checking divisibility by integers between 2 and $n/2$.\n",
    "\n",
    "**HINT:** Use two arguments, where the second argument is the number you're checking divisibility by. Give this one a default value as in the code below.\n",
    "\n",
    "<pre>\n",
    "def isPrime(n,i=2):\n",
    "    if i> n/2:\n",
    "        return True\n",
    "    # Your Solution here\n",
    "</pre>\n",
    "\n",
    "**Part 1 (2 pts):** Complete the function `isPrime` below."
   ]
  },
  {
   "cell_type": "code",
   "execution_count": null,
   "metadata": {
    "deletable": false,
    "nbgrader": {
     "cell_type": "code",
     "checksum": "325b5c0478ce6b7e90e45e29166ff718",
     "grade": false,
     "grade_id": "cell-62936e83ac51a4ce",
     "locked": false,
     "schema_version": 3,
     "solution": true,
     "task": false
    }
   },
   "outputs": [],
   "source": [
    "def isPrime(n,i=2):\n",
    "    # YOUR CODE HERE\n",
    "    raise NotImplementedError()"
   ]
  },
  {
   "cell_type": "code",
   "execution_count": null,
   "metadata": {
    "deletable": false,
    "editable": false,
    "nbgrader": {
     "cell_type": "code",
     "checksum": "119ca7f0f268ce22440c3ea8426eb301",
     "grade": true,
     "grade_id": "cell-e506b70638044aba",
     "locked": true,
     "points": 2,
     "schema_version": 3,
     "solution": false,
     "task": false
    }
   },
   "outputs": [],
   "source": [
    "assert isPrime(3) == True\n",
    "assert isPrime(17) == True\n",
    "assert isPrime(20,6) == False"
   ]
  },
  {
   "cell_type": "markdown",
   "metadata": {
    "deletable": false,
    "editable": false,
    "nbgrader": {
     "cell_type": "markdown",
     "checksum": "b8fa3eccb023b4ba50e2597320bf6ef8",
     "grade": false,
     "grade_id": "cell-beb6ce45219a8383",
     "locked": true,
     "schema_version": 3,
     "solution": false,
     "task": false
    }
   },
   "source": [
    "**Part 2 (2 pts):** Complete the following test function `testPrime(n)` that illustrates the result of calling `isPrime(i)` on `i=1,...,n`"
   ]
  },
  {
   "cell_type": "code",
   "execution_count": null,
   "metadata": {
    "deletable": false,
    "nbgrader": {
     "cell_type": "code",
     "checksum": "44bc1f6eb181be8d4b3c62420a3f97d5",
     "grade": true,
     "grade_id": "cell-549daf913cf15622",
     "locked": false,
     "points": 2,
     "schema_version": 3,
     "solution": true,
     "task": false
    }
   },
   "outputs": [],
   "source": [
    "def testisPrime(n):\n",
    "    # YOUR CODE HERE\n",
    "    raise NotImplementedError()"
   ]
  },
  {
   "cell_type": "code",
   "execution_count": null,
   "metadata": {},
   "outputs": [],
   "source": []
  }
 ],
 "metadata": {
  "kernelspec": {
   "display_name": "Python 3",
   "language": "python",
   "name": "python3"
  },
  "language_info": {
   "codemirror_mode": {
    "name": "ipython",
    "version": 3
   },
   "file_extension": ".py",
   "mimetype": "text/x-python",
   "name": "python",
   "nbconvert_exporter": "python",
   "pygments_lexer": "ipython3",
   "version": "3.7.4"
  }
 },
 "nbformat": 4,
 "nbformat_minor": 2
}
