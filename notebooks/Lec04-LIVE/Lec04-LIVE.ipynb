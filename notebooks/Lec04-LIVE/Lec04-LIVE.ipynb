{
 "cells": [
  {
   "cell_type": "markdown",
   "metadata": {},
   "source": [
    "# Lecture 4 Live Exercises\n",
    "\n",
    "In Lecture 4 we covered\n",
    "- Default Values for Functions\n",
    "- Docstrings\n",
    "- Abstraction\n",
    "- Recursion\n",
    "\n",
    "However, to make sure that our Python Greenhorns are getting enough practice, I've arranged problems slightly differently."
   ]
  },
  {
   "cell_type": "markdown",
   "metadata": {},
   "source": [
    "## Greenhorn Review Exercises\n",
    "\n",
    "**1. Counting Characters:** Write a function `char_count(x,y)` that takes in a string and a character and counts how many times that character shows up in that string. For example, for the string `s = 'njksdk#fj5j%jjabd#j'` and character `c = '#'`, `char_count(s,c)` should return `2`."
   ]
  },
  {
   "cell_type": "code",
   "execution_count": null,
   "metadata": {},
   "outputs": [],
   "source": []
  },
  {
   "cell_type": "markdown",
   "metadata": {},
   "source": [
    "**2. Repeat Characters:** Write a function `repeat_chars(s,n)` that takes in a string `s` and positive integer `n` and repeats every character in that string *n* times. \n",
    "\n",
    "So `repeat_chars('Hello',4)` should return `'HHHHeeeelllloooo'` and\n",
    "`repeat_chars('apple',2)` should return `aappppllee`."
   ]
  },
  {
   "cell_type": "code",
   "execution_count": null,
   "metadata": {},
   "outputs": [],
   "source": []
  },
  {
   "cell_type": "markdown",
   "metadata": {},
   "source": [
    "## Lecture 4 Exercises\n",
    "\n",
    "**1. Print numbers, recursively:** Write a function `countDown(n)` that uses recursion to return a string that counts down from `n`, separated by `...`, ending with the base case where `n==0`, which should return `Blast Off!`\n",
    "\n",
    "In other words, `countDown(5)` should return the string `'5...4...3...2...1...Blast Off!'`."
   ]
  },
  {
   "cell_type": "code",
   "execution_count": null,
   "metadata": {},
   "outputs": [],
   "source": []
  },
  {
   "cell_type": "markdown",
   "metadata": {},
   "source": [
    "**2. Triangular Numbers (two parts!):** \n",
    "\n",
    "**Part 1** Write a function called `triang(n)` that uses recursion to return the sum $$n+(n-1)+(n-2)+\\cdots+ 1.$$\n",
    "\n",
    "**Part 2** Add a docstring to the code of `triang(n)` so that when you call `help(triang)` it explains what the function does."
   ]
  },
  {
   "cell_type": "code",
   "execution_count": null,
   "metadata": {},
   "outputs": [],
   "source": []
  },
  {
   "cell_type": "markdown",
   "metadata": {},
   "source": [
    "**3. Printing a string backwards and other tricks:** \n",
    "\n",
    "For this problem, assume that you only know the following and a little bit of recursion.\n",
    "\n",
    "- You can concatenate two strings using the `+` operation.\n",
    "- If you want to know the length of a string `s`, you can use the command `len(s)`.\n",
    "- If you want to access the $i^{th}$ entry in a string, you can use `s[i]`. Note that this starts counting at 0.\n",
    "- The command `s[i:j]` returns the substring starting at entry number `i` and ends at `j-1`.\n",
    "\n",
    "Use recursion to write a function `printBackwards(x)` that takes in a string and prints it backwards."
   ]
  },
  {
   "cell_type": "code",
   "execution_count": null,
   "metadata": {},
   "outputs": [],
   "source": []
  },
  {
   "cell_type": "markdown",
   "metadata": {},
   "source": [
    "**4. Testing whether an integer is prime:**\n",
    "\n",
    "Write a function `isPrime` that takes in an integer `n` and returns whether it is prime or not by recursively checking divisibility by integers between 2 and $n/2$.\n",
    "\n",
    "**HINT:** Use two arguments, where the second argument is the number you're checking divisibility by. Give this one a default value as in the code below.\n",
    "\n",
    "<pre>\n",
    "def isPrime(n,i=2):\n",
    "    if i> n/2:\n",
    "        return True\n",
    "    # Your Solution here\n",
    "</pre>\n",
    "\n",
    "Use the test function below to make sure your function does what's intended."
   ]
  },
  {
   "cell_type": "code",
   "execution_count": 16,
   "metadata": {},
   "outputs": [],
   "source": [
    "def isPrime(n,i=2):\n",
    "    if i> n/2:\n",
    "        return True\n",
    "    # Your Solution here!\n",
    "    # Delete the raise NotImplementedError\n",
    "    raise NotImplementedError"
   ]
  },
  {
   "cell_type": "code",
   "execution_count": null,
   "metadata": {},
   "outputs": [],
   "source": [
    "def testisPrime(n):\n",
    "    for i in range(n+1):\n",
    "        print('It is ', isPrime(i), 'that', i, 'is prime.')"
   ]
  }
 ],
 "metadata": {
  "kernelspec": {
   "display_name": "Python 3",
   "language": "python",
   "name": "python3"
  },
  "language_info": {
   "codemirror_mode": {
    "name": "ipython",
    "version": 3
   },
   "file_extension": ".py",
   "mimetype": "text/x-python",
   "name": "python",
   "nbconvert_exporter": "python",
   "pygments_lexer": "ipython3",
   "version": "3.7.4"
  }
 },
 "nbformat": 4,
 "nbformat_minor": 2
}
