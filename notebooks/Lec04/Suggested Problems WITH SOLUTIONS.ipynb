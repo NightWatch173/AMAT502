{
 "cells": [
  {
   "cell_type": "markdown",
   "metadata": {},
   "source": [
    "# Some Questions 9/2"
   ]
  },
  {
   "cell_type": "markdown",
   "metadata": {},
   "source": [
    "# Lecture 3 Live Exercises\n",
    "\n",
    "## Q1: Coding Exercise\n",
    "\n",
    "**Modify the following code so that it accurately (i.e. within $\\epsilon$) takes the square root of any non-negative number:**"
   ]
  },
  {
   "cell_type": "code",
   "execution_count": 1,
   "metadata": {},
   "outputs": [],
   "source": [
    "def sqrt(x):\n",
    "    epsilon = 0.001\n",
    "    left = 0\n",
    "    right = x\n",
    "    numGuesses = 0\n",
    "    guess = (right+left)/2.0\n",
    "    while abs(guess**2 - x) > epsilon:\n",
    "        numGuesses += 1\n",
    "        if guess**2 < x:\n",
    "            left = guess\n",
    "        else:\n",
    "            right = guess\n",
    "        guess = (right+left)/2.0\n",
    "    return guess"
   ]
  },
  {
   "cell_type": "markdown",
   "metadata": {},
   "source": [
    "## Q2: Coding Exercise\n",
    "\n",
    "**Write a function that takes the cube root of any real number within $\\epsilon=.001$ of the true answer.**"
   ]
  },
  {
   "cell_type": "code",
   "execution_count": null,
   "metadata": {},
   "outputs": [],
   "source": []
  },
  {
   "cell_type": "markdown",
   "metadata": {},
   "source": [
    "# If you still have time and energy, consider this...\n",
    "\n",
    "## Newton-Raphson Method\n",
    "\n",
    "Computing square roots and cube roots of a number $c$ is really just about trying to solve the equations\n",
    "$$x^2- c =0 \\qquad \\text{and} \\qquad x^3 -c =0. $$\n",
    "\n",
    "Suppose instead you're trying to find a solution to the polynomial equation\n",
    "$$x^3 -10x^2 + 5x + 2 =0$$\n",
    "\n",
    "Newton proved that if you guess that `guess` is a solution to $p(x)=0$, then `guess - p(guess)/p'(guess)` is a better guess, where `p'(guess)` is the derivative of `p` evaluated at `guess`.\n",
    "\n",
    "**Use this to write a program that finds at least one solution to the equation $x^3 -10x^2 + 5x + 2 =0$ within .001 accuracy.**"
   ]
  },
  {
   "cell_type": "code",
   "execution_count": null,
   "metadata": {},
   "outputs": [],
   "source": []
  },
  {
   "cell_type": "markdown",
   "metadata": {},
   "source": [
    "## Beginner Problems"
   ]
  },
  {
   "cell_type": "markdown",
   "metadata": {},
   "source": [
    "1. Write a function **frac_sum(a,b,c,d)** that takes in 4 integers. Suppose we have those 4 integers represent the numerator and denominator of two fractions $\\frac{a}{b}$ and $\\frac{c}{d}$. Have frac_sum(a,b,c,d) return the sum $\\frac{a}{b} + \\frac{c}{d}$."
   ]
  },
  {
   "cell_type": "code",
   "execution_count": 13,
   "metadata": {},
   "outputs": [],
   "source": [
    "def frac_sum(a,b,c,d):\n",
    "    x = a/b\n",
    "    y = c/d\n",
    "    return x + y"
   ]
  },
  {
   "cell_type": "markdown",
   "metadata": {},
   "source": [
    "1. Write a function **character_count(x,y)** that takes in a string and character and counts how many times that character shows up in that string. For example for the string s = 'njksdk#fj5j%jjabd#j' and character c = '#', character_count(s,c) should return 2."
   ]
  },
  {
   "cell_type": "code",
   "execution_count": 26,
   "metadata": {},
   "outputs": [],
   "source": [
    "def character_count(x,y):\n",
    "    count = 0\n",
    "    for i in x:\n",
    "        if i == y:\n",
    "            count+=1\n",
    "    return count"
   ]
  },
  {
   "cell_type": "code",
   "execution_count": 27,
   "metadata": {},
   "outputs": [
    {
     "data": {
      "text/plain": [
       "2"
      ]
     },
     "execution_count": 27,
     "metadata": {},
     "output_type": "execute_result"
    }
   ],
   "source": [
    "character_count('njksdk#fj5j%jjabd#j','#')"
   ]
  },
  {
   "cell_type": "markdown",
   "metadata": {},
   "source": [
    "2. Write a function **inequality_test(x)** that takes in an inequality and returns **True** if the inequality given is correct. For example inequality_test(2 < 4 < 6) should return **True** and inequality_test(12 < 3 < 5) should return **False**."
   ]
  },
  {
   "cell_type": "code",
   "execution_count": 28,
   "metadata": {},
   "outputs": [],
   "source": [
    "def inequality_test(x):\n",
    "    return x"
   ]
  },
  {
   "cell_type": "code",
   "execution_count": 29,
   "metadata": {},
   "outputs": [
    {
     "data": {
      "text/plain": [
       "False"
      ]
     },
     "execution_count": 29,
     "metadata": {},
     "output_type": "execute_result"
    }
   ],
   "source": [
    "inequality_test(12 < 3 < 5)"
   ]
  },
  {
   "cell_type": "markdown",
   "metadata": {},
   "source": [
    "3. Write a function **double_character(s,n)** that takes in a string $s$ and positive integer $n$ and repeats every character in that string *n* times. So double_character(Hello,4) should return 'HHHHeeeelllloooo'."
   ]
  },
  {
   "cell_type": "code",
   "execution_count": 30,
   "metadata": {},
   "outputs": [],
   "source": [
    "def double_character(s,n):\n",
    "    t = \"\"\n",
    "    for i in s:\n",
    "        t += 4*i\n",
    "    return t"
   ]
  },
  {
   "cell_type": "code",
   "execution_count": 31,
   "metadata": {},
   "outputs": [
    {
     "data": {
      "text/plain": [
       "'HHHHeeeelllllllloooo'"
      ]
     },
     "execution_count": 31,
     "metadata": {},
     "output_type": "execute_result"
    }
   ],
   "source": [
    "double_character('Hello',4)"
   ]
  },
  {
   "cell_type": "markdown",
   "metadata": {},
   "source": [
    "4. Write a function **order_three(x,y,z)** that takes in three different numbers and prints them in order. For example order_three(8,3,7.1) should print *3,7.1,8*."
   ]
  },
  {
   "cell_type": "code",
   "execution_count": 32,
   "metadata": {},
   "outputs": [],
   "source": [
    "def order_three(x,y,z):\n",
    "    l,m,n = 0,0,0\n",
    "    if x < y and x < z:\n",
    "        l = x\n",
    "        m = y\n",
    "        n = z\n",
    "    elif y < x and  y < z:\n",
    "        l = y\n",
    "        m = x\n",
    "        n = z\n",
    "    else:\n",
    "        l = z\n",
    "        m = x\n",
    "        n = y\n",
    "    if n < m:\n",
    "        m,n = n,m\n",
    "    print(l,m,n)"
   ]
  },
  {
   "cell_type": "code",
   "execution_count": 36,
   "metadata": {},
   "outputs": [
    {
     "name": "stdout",
     "output_type": "stream",
     "text": [
      "3 7.1 8\n"
     ]
    }
   ],
   "source": [
    "order_three(8,3,7.1)"
   ]
  },
  {
   "cell_type": "markdown",
   "metadata": {},
   "source": [
    "5. Write a function **big_five(n)** that takes in an integer $n$ and for the values from 2 to n either:\n",
    "    * prints the number if it is *not* divisible by 5\n",
    "    * prints the number divided by 5 if it is divisible by 5\n",
    "    \n",
    "So the output of big_five(10) should be 2,3,4,1,6,7,8,9,2"
   ]
  },
  {
   "cell_type": "code",
   "execution_count": 39,
   "metadata": {},
   "outputs": [],
   "source": [
    "def big_five(n):\n",
    "    for i in range(2, n + 1):\n",
    "        if i%5== 0:\n",
    "            print(int(i/5))\n",
    "        else:\n",
    "            print(i)"
   ]
  },
  {
   "cell_type": "code",
   "execution_count": 40,
   "metadata": {},
   "outputs": [
    {
     "name": "stdout",
     "output_type": "stream",
     "text": [
      "2\n",
      "3\n",
      "4\n",
      "1\n",
      "6\n",
      "7\n",
      "8\n",
      "9\n",
      "2\n"
     ]
    }
   ],
   "source": [
    "big_five(10)"
   ]
  },
  {
   "cell_type": "markdown",
   "metadata": {},
   "source": [
    "## Intermediate Problems"
   ]
  },
  {
   "cell_type": "markdown",
   "metadata": {},
   "source": [
    "1. 1. Suppose that we represent a line $ax + by = c$ by the triple $(a,b,c)$. Write a function **parallel(x,y)** that takes in two triples\n",
    "$(a,b,c), (d,e,f)$ and checks whether or not those lines are parallel. So for example parallel((1,2,3),(7,8,12)) should return **False**. **Hint:** Try figuring this out on paper first.\n",
    "\n",
    "**Note:** This assumes knowledge of either tuples or lists, if you would like to do this question and NOT rely on that just have the input be 6 numbers parallel(a,b,c,d,e,f) and know that $a,b,c$ represents the line $(a,b,c)$ and $c,d,e$ represents $(c,d,e)$"
   ]
  },
  {
   "cell_type": "code",
   "execution_count": 46,
   "metadata": {},
   "outputs": [],
   "source": [
    "def parallel(x,y):\n",
    "    m = -x[0]/x[1]\n",
    "    n = -y[0]/y[1]\n",
    "    if n == m:\n",
    "        return True\n",
    "    else:\n",
    "        return False"
   ]
  },
  {
   "cell_type": "code",
   "execution_count": 48,
   "metadata": {},
   "outputs": [
    {
     "data": {
      "text/plain": [
       "False"
      ]
     },
     "execution_count": 48,
     "metadata": {},
     "output_type": "execute_result"
    }
   ],
   "source": [
    "parallel((1,2,3),(7,8,12))"
   ]
  },
  {
   "cell_type": "markdown",
   "metadata": {},
   "source": [
    "2.  Write a function **diff_ints(x)** that takes in a number and returns the difference between the maximum and minimum numbers used to create that number. So diff_ints(217631) should output 7 - 1 = 6."
   ]
  },
  {
   "cell_type": "code",
   "execution_count": 49,
   "metadata": {},
   "outputs": [],
   "source": [
    "def diff_ints(x):\n",
    "    y = str(x)\n",
    "    m = 0\n",
    "    n = int(y[0])\n",
    "    for i in y:\n",
    "        if int(i) > m:\n",
    "            m = int(i)\n",
    "        if int(i) < n:\n",
    "            n = int(i)\n",
    "    return m - n\n",
    "        "
   ]
  },
  {
   "cell_type": "code",
   "execution_count": 50,
   "metadata": {},
   "outputs": [
    {
     "data": {
      "text/plain": [
       "6"
      ]
     },
     "execution_count": 50,
     "metadata": {},
     "output_type": "execute_result"
    }
   ],
   "source": [
    "diff_ints(217631)"
   ]
  },
  {
   "cell_type": "markdown",
   "metadata": {},
   "source": [
    "3. Write a function **bin_conv(x)** that takes in an integer and converts it to a binary string. As an example consider converting the integer 242 to binary as follows:\n",
    "\n",
    "To convert to binary we have ex 242:\n",
    "* 242%2 = 0\n",
    "* update (242/2) = 121\n",
    "* 121%2 = 1\n",
    "* update (242//2) = 60\n",
    "* 60%2 = 0\n",
    "* update (60/2) = 30\n",
    "* 30%2 = 0 \n",
    "* update (30/2) = 15\n",
    "* 15%2 = 1\n",
    "* update (15//2) = 7\n",
    "* 7%2 = 1\n",
    "* update (7//2) = 3\n",
    "* 3%2 = 1\n",
    "* update (3//2) = 1\n",
    "* 1%2 = 1\n",
    "\n",
    "Now we can read off the binary string associated to 242 by reading our remainder outputs from bottom to top. So the binary string associated to 242 is '11110010'. **Note:** You can check to see if your binary string is correct by running the code int('11110010',2) and see if we get 242 back (or whatever your associated integer is with its binary string)."
   ]
  },
  {
   "cell_type": "code",
   "execution_count": 9,
   "metadata": {},
   "outputs": [],
   "source": [
    "def bin_conv(x):\n",
    "    s = ''\n",
    "    update = x\n",
    "    while update != 0:\n",
    "        if update%2 == 0:\n",
    "            s += '0'\n",
    "            update = update//2\n",
    "        else:\n",
    "            s += '1'\n",
    "            update = update//2\n",
    "    return s[::-1]"
   ]
  },
  {
   "cell_type": "code",
   "execution_count": 10,
   "metadata": {},
   "outputs": [
    {
     "data": {
      "text/plain": [
       "'11110010'"
      ]
     },
     "execution_count": 10,
     "metadata": {},
     "output_type": "execute_result"
    }
   ],
   "source": [
    "bin_conv(242)"
   ]
  }
 ],
 "metadata": {
  "kernelspec": {
   "display_name": "Python 3",
   "language": "python",
   "name": "python3"
  },
  "language_info": {
   "codemirror_mode": {
    "name": "ipython",
    "version": 3
   },
   "file_extension": ".py",
   "mimetype": "text/x-python",
   "name": "python",
   "nbconvert_exporter": "python",
   "pygments_lexer": "ipython3",
   "version": "3.7.4"
  }
 },
 "nbformat": 4,
 "nbformat_minor": 2
}
