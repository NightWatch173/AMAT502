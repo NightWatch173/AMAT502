{
 "cells": [
  {
   "cell_type": "markdown",
   "metadata": {},
   "source": [
    "# Lecture 5 Live\n",
    "\n",
    "## Lecture Recap\n",
    "\n",
    "- In Lecture 5 we used pythontutor.com to visualize function calls and evaluation.\n",
    "- We compared iterative and recursive implementations of the factorial function.\n",
    "- We introduced operations on strings such as:\n",
    "    - `s[i]`\n",
    "    - `s[i:j]`\n",
    "- We introduced **methods** on strings such as\n",
    "    - s.upper()\n",
    "    - s.replace(,)\n",
    "- We introduced lists and methods on these, which include string operations and\n",
    "    - myList.append()\n",
    "    - myList.sort()\n",
    "- We concluded by considering the \"Subset-Sum\" problem."
   ]
  },
  {
   "cell_type": "markdown",
   "metadata": {},
   "source": [
    "## Lecture 5 Exercises\n",
    "\n",
    "**Question 1:** Using the method introduced in lecture, sort the list `a=[1,43,22,54,12]`."
   ]
  },
  {
   "cell_type": "code",
   "execution_count": null,
   "metadata": {},
   "outputs": [],
   "source": [
    "a=[1,43,22,54,12]"
   ]
  },
  {
   "cell_type": "markdown",
   "metadata": {},
   "source": [
    "**Question 2:** Write a function that takes in two lists of integers and returns a single list that combines their values and **is sorted** from lowest to highest."
   ]
  },
  {
   "cell_type": "code",
   "execution_count": null,
   "metadata": {},
   "outputs": [],
   "source": []
  },
  {
   "cell_type": "markdown",
   "metadata": {},
   "source": [
    "**Question 3:** How might you modify the code below so that one fewer recursive calls are made? Check your answer using pythontutor.com and report on how many steps are needed.\n",
    "```python\n",
    "def reverse(s):\n",
    "    if len(s)==0:\n",
    "        return ''\n",
    "    else:\n",
    "        return reverse(s[1:]) + s[0]```"
   ]
  },
  {
   "cell_type": "code",
   "execution_count": null,
   "metadata": {},
   "outputs": [],
   "source": []
  },
  {
   "cell_type": "markdown",
   "metadata": {},
   "source": [
    "**Question 4:** In Attack #1 on our subset problem we used the following basic idea\n",
    "- Take a list of item capacities `myList` and from left to right and agree to ship an item as long as...\n",
    "    - `myList[i] < cap` and\n",
    "    - The sum of capacities of things you've agreed to ship is less than the total capacity\n",
    "    \n",
    "**Provide an iterative implementation of the following code.** I've provided the recursive implementation below for convenience.\n",
    "\n",
    "```python\n",
    "def subsetSum1(cap,myList):\n",
    "    \"\"\"Assumes that cap is a positive number and that myList is a list of positive numbers. \n",
    "    Attempts to return the maximum subset sum that is less than cap.\"\"\"\n",
    "    if cap<=0 or myList == []:\n",
    "        return 0\n",
    "    \n",
    "    first = myList[0]\n",
    "    rest = myList[1:]\n",
    "    \n",
    "    if first > cap:\n",
    "        return subsetSum1(cap,rest)\n",
    "    \n",
    "    if first == cap:\n",
    "        return cap\n",
    "    \n",
    "    if first < cap:\n",
    "        return first + subsetSum1(cap-first, rest)```"
   ]
  },
  {
   "cell_type": "code",
   "execution_count": null,
   "metadata": {},
   "outputs": [],
   "source": []
  },
  {
   "cell_type": "markdown",
   "metadata": {},
   "source": [
    "**Question 5: Answer the reflection questions below the following code.**\n",
    "\n",
    "```python\n",
    "def subsetSum(cap,myList):\n",
    "    \"\"\"Assumes that cap is a positive number and that myList is a list of positive numbers. \n",
    "    Returns the maximum subset sum that is less than cap.\"\"\"\n",
    "    if cap<=0 or myList == []:\n",
    "        return 0\n",
    "    \n",
    "    first = myList[0]\n",
    "    rest = myList[1:]\n",
    "    \n",
    "    if first > cap:\n",
    "        return subsetSum(cap,rest)\n",
    "    \n",
    "    if first == cap:\n",
    "        return cap\n",
    "    \n",
    "    if first < cap:\n",
    "        useit = first + subsetSum(cap-first, rest) #This executes the \"Use it\" strategy.\n",
    "        loseit = subsetSum(cap, rest) #This executes the \"Lose it\" strategy.\n",
    "        return max(useit, loseit)\n",
    "```\n",
    "\n",
    "1. How many steps did this implementation of subsetSum take when using http://pythontutor.com/ AND evaluate on `subsetSum(42,[45,30,23,18,10,5])` \n",
    "2. If you were to compress this code by using `if...elif...else` statements how would this change? Try to clean up the code above!\n",
    "3. Do you have a conjecture as to the complexity of subsetSum as a function of list length?"
   ]
  },
  {
   "cell_type": "code",
   "execution_count": null,
   "metadata": {},
   "outputs": [],
   "source": []
  }
 ],
 "metadata": {
  "kernelspec": {
   "display_name": "Python 3",
   "language": "python",
   "name": "python3"
  },
  "language_info": {
   "codemirror_mode": {
    "name": "ipython",
    "version": 3
   },
   "file_extension": ".py",
   "mimetype": "text/x-python",
   "name": "python",
   "nbconvert_exporter": "python",
   "pygments_lexer": "ipython3",
   "version": "3.7.4"
  }
 },
 "nbformat": 4,
 "nbformat_minor": 2
}
