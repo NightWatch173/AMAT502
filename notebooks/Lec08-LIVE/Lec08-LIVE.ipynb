{
 "cells": [
  {
   "cell_type": "markdown",
   "metadata": {},
   "source": [
    "# Lecture 8 LIVE (Bonus)\n",
    "\n",
    "In lecture 8 we covered\n",
    "- More topics from OOP\n",
    "    - The `__str__` method\n",
    "    - The `__lt__` method\n",
    "- Data Types and Structures\n",
    "    - Review of ADTs\n",
    "    - Intro to Data Structures\n",
    "    - Stacks\n",
    "    - Queues"
   ]
  },
  {
   "cell_type": "markdown",
   "metadata": {},
   "source": [
    "## Finish Lecture 7 LIVE\n",
    "\n",
    "### Lec 7, Question 5: Part A\n",
    "Let's make a new class called `House` that where you have to provide the following attributes in the `__init__` function:\n",
    "- address,\n",
    "- style, (see [this list](https://www.diynetwork.com/how-to/rooms-and-spaces/exterior/26-popular-architectural-home-styles-pictures) for inspiration)\n",
    "- yearBuilt\n",
    "- numUnits (are there rental units in the property?)\n",
    "- numFloors (how many floors does it have?)\n",
    "\n",
    "You should also include the attributes and provide methods to change the values of (or just check!) \n",
    "- doorsLocked\n",
    "- windowsClosed"
   ]
  },
  {
   "cell_type": "code",
   "execution_count": null,
   "metadata": {},
   "outputs": [],
   "source": []
  },
  {
   "cell_type": "markdown",
   "metadata": {},
   "source": [
    "### Lec 7, Question 5: Part B\n",
    "\n",
    "Add *at least 3* more attributes and methods for modifying these attributers. Be creative!"
   ]
  },
  {
   "cell_type": "code",
   "execution_count": null,
   "metadata": {},
   "outputs": [],
   "source": []
  },
  {
   "cell_type": "markdown",
   "metadata": {},
   "source": [
    "## Lecture 8 LIVE Bonus problems (not required)\n",
    "\n",
    "### 1. Make a class Queue with the following attributes:\n",
    "    * enQueue: This adds items to your queue object\n",
    "    * deQueue: This removes the first item you added to your queue object\n",
    "    * front: Returns the first item of the queue\n",
    "    * rear: Returns the last item of the queue\n",
    "    * isEmpty: Checks to see if your queue is empty or not\n",
    "    * `__str__`: Knows how to implement a queue"
   ]
  },
  {
   "cell_type": "code",
   "execution_count": null,
   "metadata": {},
   "outputs": [],
   "source": []
  },
  {
   "cell_type": "markdown",
   "metadata": {},
   "source": [
    "### 2. Make a Stack Using Two Queues:\n",
    "\n",
    "We know that the only difference between a stack and queue is that a stack is last in first out (LIFO) and a queue is first in first out (FIFO). With this information create a class **Stack** that uses two queue objects from your queue class to make the objects and attributes in your stack class, i.e., make an object that takes in items and pops items LIFO using ONLY two of your queues and their enqueue and dequeue methods and other attributes. "
   ]
  },
  {
   "cell_type": "code",
   "execution_count": null,
   "metadata": {},
   "outputs": [],
   "source": [
    "#What they will get\n",
    "class Stack:\n",
    "    \n",
    "    def __init__(self):\n",
    "        self.q1 = Queue()\n",
    "        self.q2 = Queue()\n",
    "    \n",
    "    #def push():\n",
    "    \n",
    "    #def pop():\n",
    "    \n",
    "    #def peek():\n",
    "    \n",
    "    #def view():"
   ]
  },
  {
   "cell_type": "code",
   "execution_count": null,
   "metadata": {},
   "outputs": [],
   "source": []
  }
 ],
 "metadata": {
  "kernelspec": {
   "display_name": "Python 3",
   "language": "python",
   "name": "python3"
  },
  "language_info": {
   "codemirror_mode": {
    "name": "ipython",
    "version": 3
   },
   "file_extension": ".py",
   "mimetype": "text/x-python",
   "name": "python",
   "nbconvert_exporter": "python",
   "pygments_lexer": "ipython3",
   "version": "3.7.4"
  }
 },
 "nbformat": 4,
 "nbformat_minor": 2
}
