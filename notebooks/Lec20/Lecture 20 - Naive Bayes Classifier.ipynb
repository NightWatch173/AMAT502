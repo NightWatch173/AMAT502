{
 "cells": [
  {
   "cell_type": "markdown",
   "metadata": {
    "slideshow": {
     "slide_type": "slide"
    }
   },
   "source": [
    "# AMAT 502: Modern Computing for Mathematicians\n",
    "## Lecture 20 - Naive Bayes Classifier\n",
    "### University at Albany SUNY"
   ]
  },
  {
   "cell_type": "markdown",
   "metadata": {
    "slideshow": {
     "slide_type": "slide"
    }
   },
   "source": [
    "# Topics for Today\n",
    "\n",
    "* Review of Probability\n",
    "* Bayes' Rule\n",
    "* Bayesian Classification\n",
    "* Example from the Newsgroup Data Set"
   ]
  },
  {
   "cell_type": "markdown",
   "metadata": {
    "slideshow": {
     "slide_type": "slide"
    }
   },
   "source": [
    "## Naive Bayes Classifier at a Glance\n",
    "\n",
    "* In Bayesian classification, we're interested in finding the probability of a label given some observed features, which we can write using conditional probability. Naive Bayes models are a group of very fast and simple classification algorithms that are suitable for high-dimensional datasets.\n",
    "\n",
    "* In order to use Bayes' Theorem we need to make some *naive* assumptions about how the data is generated, i.e., that the data is drawn from a particularly nice distribution."
   ]
  },
  {
   "cell_type": "markdown",
   "metadata": {
    "slideshow": {
     "slide_type": "slide"
    }
   },
   "source": [
    "# Probability Review\n",
    "\n",
    "- Kolmogorov's Axioms\n",
    "- Measure\n",
    "- Conditional Probability\n",
    "- Bayes Theorem"
   ]
  },
  {
   "cell_type": "markdown",
   "metadata": {
    "slideshow": {
     "slide_type": "slide"
    }
   },
   "source": [
    "## Kolmogorov's Axioms\n",
    "\n",
    "In the 1930s, Andrey Kolomogorov [established a foundation for the theory of probability](https://en.wikipedia.org/wiki/Probability_axioms).\n",
    "\n",
    "This involved the formalization of the notion of an **event**, which is basically a \"nice\" subset of some sample space $\\Omega$ and a function $P$ that assigns the probability to each event. This means that we need three things to define a probability space:\n",
    "\n",
    "- A sample space $\\Omega$\n",
    "- A collection of subsets $\\mathcal{E}$ of $\\Omega$.\n",
    "- A function $P: \\mathcal{E} \\to \\mathbb{R}$\n",
    "\n",
    "Kolmogorov defined three axioms that these things must satisfy:\n",
    "\n",
    "1. **Probability is non-negative** i.e. For any $E\\in \\mathcal{E}$, $P(E)\\geq 0$.\n",
    "2. **Probability of the Sample Space is 1**, i.e. $\\Omega\\in \\mathcal{E}$ and $P(\\Omega)=1$.\n",
    "3. **Probability is Additive for Countable Disjoint Events**, i.e. If \n",
    "$$A_1, A_2, A_3, \\ldots, A_n, \\ldots \\qquad \\text{where} \\qquad i\\neq j \\Rightarrow A_i\\cap A_j = \\varnothing$$\n",
    "then\n",
    "$$P(\\bigcup_{i=1}^\\infty A_i) = \\sum_{i=1}^{\\infty} P(A_i).$$\n",
    "\n",
    "<center>\n",
    "<img src=\"eventA.png\" alt=\"Event A\" width=\"400\" style=\"float: left; margin: left 40px;\"/>\n",
    "<img src=\"eventB.png\" alt=\"Event B\" width=\"400\" style=\"float: right; margin: right 40px; \"/>\n",
    "<center/>"
   ]
  },
  {
   "cell_type": "markdown",
   "metadata": {
    "slideshow": {
     "slide_type": "slide"
    }
   },
   "source": [
    "## Probability as a Normalized Measure\n",
    "\n",
    "The consequence of the Kolmogorov's Axioms is that the collection of events $\\mathcal{E}$, which is by definition a collection of subsets of $\\Omega$ is a **$\\sigma$-algebra**, i.e.\n",
    "- $\\Omega\\in \\mathcal{E}$\n",
    "- it is closed under complements so $A\\in \\mathcal{E} \\Rightarrow A^c \\in \\mathcal{E}$ where $A^c:=\\Omega\\setminus A$\n",
    "- it is closed under countable unions.\n",
    "\n",
    "These are the ingredients that go into defining a **measure space**, which is basically the abstract study of how we can make the notion of volume, a la Calculus, make sense.\n",
    "\n",
    "If we have a notion of volume/measure $|\\bullet|:\\mathcal{E} \\to \\mathbb{R}_{\\geq 0}$ then we can turn this into a probability measure by division:\n",
    "\n",
    "$$P(A) = \\dfrac{|A|}{|\\text{Universe}|}$$\n",
    "\n",
    "$$P(B) = \\dfrac{|B|}{|\\text{Universe}|}$$"
   ]
  },
  {
   "cell_type": "markdown",
   "metadata": {
    "slideshow": {
     "slide_type": "slide"
    }
   },
   "source": [
    "## Boolean Algebra\n",
    "\n",
    "The term **sigma algebra** is a stronger requirement than a **Boolean** algebra.\n",
    "\n",
    "Normally we think of algebra as being about multiplication and addition and things like that. There is a precise analogy between algebraic operations such as multiplication and addition and the set-theoretic operations:\n",
    "\n",
    "- **AND** written $A \\cap B$ or $A\\cdot B$ (*think multiplication!*) is the event where both $A$ and $B$ occur.\n",
    "- **OR** written $A\\cup B$ is the event where either $A$ or $B$ occur; you're *adding* the possibility of $B$ occuring to $A$.\n",
    "\n",
    "A **boolean** algebra also has the operation\n",
    "- **NOT** written $A^c$, which is where $A$ does NOT occur.\n",
    "\n",
    "We thus have the following \"rules\" of probability:\n",
    "    \n",
    "$$P(A \\cap B) = \\dfrac{|A \\cap B|}{|\\text{Universe}|} $$\n",
    "\n",
    "$$P(A^c) = 1- P(A)$$\n",
    "<center>\n",
    "    <img src=\"cond1.png\" alt=\"Conditional Probability\" width=\"600\"/>\n",
    "</center>"
   ]
  },
  {
   "cell_type": "markdown",
   "metadata": {
    "slideshow": {
     "slide_type": "slide"
    }
   },
   "source": [
    "## Conditional Probability\n",
    "\n",
    "We can always take a collection of events and **condition** on another event happening, i.e. we restrict discourse to a smaller universe where we know event $B$ has already occured.\n",
    "\n",
    "This allows us to pass from the probability space $(\\Omega, \\mathcal{E}, P(\\bullet))$ to another probability space $(B, \\mathcal{E}\\cap B, P(\\bullet \\mid B))$, where\n",
    "\n",
    "$$P(A | B) = \\dfrac{P(A \\cap B)}{P(B)} $$\n",
    "\n",
    "<center>\n",
    "    <img src=\"cond2.png\" alt=\"Bayes Theorem\" width=\"300\"/>\n",
    "</center>"
   ]
  },
  {
   "cell_type": "markdown",
   "metadata": {
    "slideshow": {
     "slide_type": "slide"
    }
   },
   "source": [
    "## Law of Multiplication\n",
    "\n",
    "Similarly to calculate the probability of $B$ occuring given that $A$ has:\n",
    "\n",
    "$$ P(B | A) = \\dfrac{P(A \\cap B)}{P(A)} $$\n",
    "\n",
    "or, equivalently\n",
    "\n",
    "$$ P(B | A)P(A) = P(A \\cap B)$$"
   ]
  },
  {
   "cell_type": "markdown",
   "metadata": {
    "slideshow": {
     "slide_type": "slide"
    }
   },
   "source": [
    "## Bayes' Rule\n",
    "\n",
    "By Rearranging terms we get the simplest version of Bayes' theorem:\n",
    "\n",
    "![bayes-rule](bayes-rule.jpg)\n",
    "*By mattbuck (category) - Own work by mattbuck., CC BY-SA 3.0, https://commons.wikimedia.org/w/index.php?curid=14658489*\n",
    "\n",
    "The image reads:\n",
    "$$P(A | B) = \\dfrac{P(B | A)P(A)}{P(B)} $$\n"
   ]
  },
  {
   "cell_type": "markdown",
   "metadata": {
    "slideshow": {
     "slide_type": "slide"
    }
   },
   "source": [
    "# Bayesian Probability\n",
    "\n",
    "![Thomas Bayes](Thomas_Bayes.gif)\n",
    "\n",
    "**Thomas Bayes** (1701 – 1761 CE) was a British statistician, philosopher and Presbyterian minister.\n",
    "\n",
    "**Bayesian Probability** takes the perspective that we should interpret the function $P(\\bullet)$ as representing *degress of belief* in an event occurring.\n",
    "\n",
    "By contrast, **frequentist probability** takes the perspective that probability represents the frequency of occurrence when an experiment is repeated multiple times.\n",
    "\n",
    "Bayesian probability makes more sense when you're considering questions such as *What is the Probability of Life on Mars?* \n",
    "\n",
    "Additionally, Bayesian probability has become the preferred framework for doing data science."
   ]
  },
  {
   "cell_type": "markdown",
   "metadata": {},
   "source": [
    "## Bayesian Terminology\n",
    "\n",
    "Part of what makes Bayesian probability different is that you need some terminology that allows you to interpret the components of Bayes' Rule:\n",
    "\n",
    "$$P(A | B) = \\dfrac{P(B | A)P(A)}{P(B)} $$\n",
    "\n",
    "\n",
    "* P(A|B) is the **posterior probability** of class (A, target) given predictor (B, attributes).\n",
    "* P(B) is the **prior probability** of predictor.\n",
    "* P(B|A) is the **likelihood** which is the probability of predictor given class.\n",
    "* P(A) is the **prior probability** of class.\n",
    "\n",
    "[See these MIT 18.05 Notes for this translation](https://ocw.mit.edu/courses/mathematics/18-05-introduction-to-probability-and-statistics-spring-2014/readings/MIT18_05S14_Reading20.pdf)"
   ]
  },
  {
   "cell_type": "markdown",
   "metadata": {
    "slideshow": {
     "slide_type": "slide"
    }
   },
   "source": [
    "## Bayesian Classification\n",
    "In Bayesian classification methods, we're interested in finding the probability of a label given some observable features, i.e., by Bayes Theorem:\n",
    "\n",
    "$$P(L | \\text{features}) = \\dfrac{P(\\text{features} | L)P(L)}{P(\\text{features})} $$\n",
    "\n",
    "More specifically, if we have $n$ features, $x_1, \\cdots x_n$, and $k$ labels, $y_1, \\cdots, y_k$ then the *posterior probability* of $y_i$ given $x_1, \\cdots x_n$\n",
    "\n",
    "$$P(y_i | x_1, x_2, \\cdots, x_n) = \\dfrac{P(x_1, x_2, \\cdots, x_n | y_i)P(y_i)}{P(x_1, x_2, \\cdots, x_n)}$$\n"
   ]
  },
  {
   "cell_type": "markdown",
   "metadata": {
    "slideshow": {
     "slide_type": "slide"
    }
   },
   "source": [
    "## Problems with Bayesian Classification\n",
    "\n",
    "The prior $P(y_i)$ is easy to estimate from a dataset, simply by looking at frequency of its occurrence. \n",
    "\n",
    "The conditional probability of the observation based on the class $$P(x_1, x_2, \\cdots, x_n | y_i)$$ is not feasible unless the number of examples is extraordinarily large, e.g. large enough to effectively estimate the probability distribution for all different possible combinations of values.\n",
    "\n",
    "As such, the direct application of Bayes Theorem also becomes intractable, especially as the number of variables or features $n$ increases."
   ]
  },
  {
   "cell_type": "markdown",
   "metadata": {
    "slideshow": {
     "slide_type": "slide"
    }
   },
   "source": [
    "## The \"Naive\" Bayesian Assumption\n",
    "\n",
    "We can circumvent these problems with **naive** assumptions on our data. This is why **Naive Bayes Classifier** is called by this name.\n",
    "\n",
    "In order to use and simplify the application and computation of Bayes Theorem, we assume that:\n",
    "\n",
    "* The data input values (the features) are independent, and\n",
    "\n",
    "* The data is used to estimate the parameters of a single probability distribution"
   ]
  },
  {
   "cell_type": "markdown",
   "metadata": {
    "slideshow": {
     "slide_type": "slide"
    }
   },
   "source": [
    "## Naive Bayes Independence Assumption\n",
    "\n",
    "If we assume that the features are conditionally independent, then we can say\n",
    "\n",
    "$$P(y_i | x_1, x_2, …, x_n) \\propto P(x_1|y_i) \\times P(x_2|y_i) \\times \\cdots P(x_n|y_i) \\times P(y_i)$$\n",
    "\n",
    "where we have forgotten the normalizing factor of $P(x_1, x_2, \\cdots, x_n)$."
   ]
  },
  {
   "cell_type": "markdown",
   "metadata": {
    "slideshow": {
     "slide_type": "fragment"
    }
   },
   "source": [
    "### Conceptual Question\n",
    "If we were trying to classify a sample, how should we choose which label to use given features $x_1,\\cdots, x_n$?"
   ]
  },
  {
   "cell_type": "markdown",
   "metadata": {
    "slideshow": {
     "slide_type": "slide"
    }
   },
   "source": [
    "## Naive Bayes Distributions\n",
    "\n",
    "**Example of distributions given a specific type of classification:**\n",
    "\n",
    "* **Binary:** Binomial distribution.\n",
    "* **Categorical:** Multinomial distribution.\n",
    "* **Numeric:** Gaussian distribution."
   ]
  },
  {
   "cell_type": "markdown",
   "metadata": {
    "slideshow": {
     "slide_type": "slide"
    }
   },
   "source": [
    "## Multinomial Distribution\n",
    "\n",
    "When using the Multinomial Naive Bayes method, we assume that the features are assumed to be generated from a simple multinomial distribution. \n",
    "\n",
    "The multinomial distribution describes the probability of observing counts among a number of categories. One example of this distribution is the one that governs how many balls are in one of three urns. This generalizes binomial distributions because there are more than two outcomes.\n",
    "\n",
    "Another example of such a classification would be classifying text that comes from one of several possible news forums"
   ]
  },
  {
   "cell_type": "markdown",
   "metadata": {
    "slideshow": {
     "slide_type": "slide"
    }
   },
   "source": [
    "# The Newsgroups Data Set\n",
    "\n",
    "The dataset we are going to explore is the **20 newsgroups dataset** which has around 18000 newsgroups posts on 20 topics split in two subsets: one for training (or development) and the other one for testing (or for performance evaluation). The split between the train and test set is based upon messages posted before and after a specific date."
   ]
  },
  {
   "cell_type": "code",
   "execution_count": 3,
   "metadata": {
    "scrolled": true,
    "slideshow": {
     "slide_type": "slide"
    }
   },
   "outputs": [
    {
     "data": {
      "text/plain": [
       "['alt.atheism',\n",
       " 'comp.graphics',\n",
       " 'comp.os.ms-windows.misc',\n",
       " 'comp.sys.ibm.pc.hardware',\n",
       " 'comp.sys.mac.hardware',\n",
       " 'comp.windows.x',\n",
       " 'misc.forsale',\n",
       " 'rec.autos',\n",
       " 'rec.motorcycles',\n",
       " 'rec.sport.baseball',\n",
       " 'rec.sport.hockey',\n",
       " 'sci.crypt',\n",
       " 'sci.electronics',\n",
       " 'sci.med',\n",
       " 'sci.space',\n",
       " 'soc.religion.christian',\n",
       " 'talk.politics.guns',\n",
       " 'talk.politics.mideast',\n",
       " 'talk.politics.misc',\n",
       " 'talk.religion.misc']"
      ]
     },
     "execution_count": 3,
     "metadata": {},
     "output_type": "execute_result"
    }
   ],
   "source": [
    "# Import data\n",
    "import numpy as np\n",
    "import matplotlib.pyplot as plt\n",
    "import seaborn as sns; sns.set()\n",
    "from sklearn.datasets import fetch_20newsgroups\n",
    "data = fetch_20newsgroups()\n",
    "data.target_names"
   ]
  },
  {
   "cell_type": "code",
   "execution_count": 4,
   "metadata": {
    "slideshow": {
     "slide_type": "slide"
    }
   },
   "outputs": [],
   "source": [
    "# Select a smaller collection of categories\n",
    "categories = ['talk.religion.misc', 'soc.religion.christian','sci.space','comp.graphics']\n",
    "train = fetch_20newsgroups(subset = 'train', categories = categories)\n",
    "test = fetch_20newsgroups(subset = 'test', categories = categories)"
   ]
  },
  {
   "cell_type": "code",
   "execution_count": 26,
   "metadata": {
    "scrolled": true,
    "slideshow": {
     "slide_type": "slide"
    }
   },
   "outputs": [
    {
     "data": {
      "text/plain": [
       "array([2, 2, 1, 2, 0, 3, 1, 0, 3, 3, 2, 0, 1, 2, 3, 2, 2, 0, 1, 0])"
      ]
     },
     "execution_count": 26,
     "metadata": {},
     "output_type": "execute_result"
    }
   ],
   "source": [
    "# Check out the data\n",
    "#print(train.data[100])\n",
    "#print(train.target[100])\n",
    "#categories[0]\n",
    "train.target[0:20]"
   ]
  },
  {
   "cell_type": "markdown",
   "metadata": {
    "slideshow": {
     "slide_type": "slide"
    }
   },
   "source": [
    "## Term Frequence-Inverse Document Frequency\n",
    "\n",
    "In order to use this data, we need to vectorize it, i.e., convert the content of each string into a vector of numbers. One approach that we will use the *term frequency-inverse document frequency* (TF-IDF), which weighs the word counts by a measure of how often they appear in the documents."
   ]
  },
  {
   "cell_type": "code",
   "execution_count": 11,
   "metadata": {
    "slideshow": {
     "slide_type": "slide"
    }
   },
   "outputs": [],
   "source": [
    "from sklearn.feature_extraction.text import TfidfVectorizer\n",
    "from sklearn.naive_bayes import MultinomialNB\n",
    "from sklearn.pipeline import make_pipeline\n",
    "\n",
    "model = make_pipeline(TfidfVectorizer(), MultinomialNB())"
   ]
  },
  {
   "cell_type": "code",
   "execution_count": 27,
   "metadata": {
    "slideshow": {
     "slide_type": "slide"
    }
   },
   "outputs": [],
   "source": [
    "# Apply the model to the training data \n",
    "model.fit(train.data, train.target)\n",
    "# Predict labels for the test data\n",
    "labels = model.predict(test.data)"
   ]
  },
  {
   "cell_type": "code",
   "execution_count": 28,
   "metadata": {
    "scrolled": true,
    "slideshow": {
     "slide_type": "slide"
    }
   },
   "outputs": [
    {
     "data": {
      "text/plain": [
       "Text(52.893125000000005, 0.5, 'predicted label')"
      ]
     },
     "execution_count": 28,
     "metadata": {},
     "output_type": "execute_result"
    },
    {
     "data": {
      "image/png": "[encoded data removed]",
      "text/plain": [
       "<Figure size 432x288 with 1 Axes>"
      ]
     },
     "metadata": {},
     "output_type": "display_data"
    }
   ],
   "source": [
    "from sklearn.metrics import confusion_matrix\n",
    "\n",
    "mat = confusion_matrix(test.target, labels)\n",
    "sns.heatmap(mat.T, square = True, annot = True, fmt = 'd', cbar = False, \n",
    "            xticklabels = train.target_names, yticklabels = train.target_names)\n",
    "plt.xlabel('true label')\n",
    "plt.ylabel('predicted label')"
   ]
  },
  {
   "cell_type": "code",
   "execution_count": 29,
   "metadata": {
    "slideshow": {
     "slide_type": "slide"
    }
   },
   "outputs": [],
   "source": [
    "# Define a function that will return the prediction label of a single string\n",
    "def predict_category(s, train = train, model = model):\n",
    "    pred = model.predict([s])\n",
    "    return train.target_names[pred[0]]"
   ]
  },
  {
   "cell_type": "code",
   "execution_count": 37,
   "metadata": {
    "slideshow": {
     "slide_type": "subslide"
    }
   },
   "outputs": [
    {
     "name": "stdout",
     "output_type": "stream",
     "text": [
      "sci.space\n",
      "soc.religion.christian\n",
      "comp.graphics\n",
      "soc.religion.christian\n",
      "soc.religion.christian\n"
     ]
    }
   ],
   "source": [
    "# Predict labels\n",
    "print(predict_category('sending a spaceship somewhere'))\n",
    "print(predict_category('discussing islam vs atheism'))\n",
    "print(predict_category('determining the screen resolution'))\n",
    "print(predict_category('Beyonce is one of the lizard people'))\n",
    "print(predict_category('math'))"
   ]
  },
  {
   "cell_type": "markdown",
   "metadata": {
    "slideshow": {
     "slide_type": "slide"
    }
   },
   "source": [
    "## When to use Naive Bayes\n",
    "\n",
    "* When the naive assumptions match the data\n",
    "\n",
    "* For very well separated categories, when the model complexity is less important\n",
    "\n",
    "* For very high-dimensional data, when the model complexity is less important"
   ]
  },
  {
   "cell_type": "markdown",
   "metadata": {
    "slideshow": {
     "slide_type": "slide"
    }
   },
   "source": [
    "## Resources:\n",
    "\n",
    "* https://oscarbonilla.com/2009/05/visualizing-bayes-theorem/\n",
    "\n",
    "* https://github.com/jakevdp/PythonDataScienceHandbook"
   ]
  }
 ],
 "metadata": {
  "celltoolbar": "Slideshow",
  "kernelspec": {
   "display_name": "Python 3",
   "language": "python",
   "name": "python3"
  },
  "language_info": {
   "codemirror_mode": {
    "name": "ipython",
    "version": 3
   },
   "file_extension": ".py",
   "mimetype": "text/x-python",
   "name": "python",
   "nbconvert_exporter": "python",
   "pygments_lexer": "ipython3",
   "version": "3.7.4"
  }
 },
 "nbformat": 4,
 "nbformat_minor": 2
}
