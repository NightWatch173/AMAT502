{
 "cells": [
  {
   "cell_type": "markdown",
   "metadata": {
    "deletable": false,
    "editable": false,
    "nbgrader": {
     "cell_type": "markdown",
     "checksum": "01ceedacd485738d3ee53da298063296",
     "grade": false,
     "grade_id": "cell-97c3e5bc9dc2a8b9",
     "locked": true,
     "schema_version": 3,
     "solution": false,
     "task": false
    }
   },
   "source": [
    "# Problem Set 01 (14 Points)\n",
    "\n",
    "## Due Friday, September 2nd, 2022 by midnight.\n",
    "\n",
    "### Each question is worth 2 points"
   ]
  },
  {
   "cell_type": "markdown",
   "metadata": {
    "deletable": false,
    "editable": false,
    "nbgrader": {
     "cell_type": "markdown",
     "checksum": "7c42c58fc809dfa7a797746cf2b746b8",
     "grade": false,
     "grade_id": "cell-c461ca760eed9a33",
     "locked": true,
     "schema_version": 3,
     "solution": false,
     "task": false
    }
   },
   "source": [
    "## Concepts Tested\n",
    "\n",
    "- Working with strings, floats, integers\n",
    "- Overloading of operators\n",
    "- Variable assignment\n",
    "- Writing functions with a proper `return` statement\n",
    "- Loops\n"
   ]
  },
  {
   "cell_type": "markdown",
   "metadata": {
    "deletable": false,
    "editable": false,
    "nbgrader": {
     "cell_type": "markdown",
     "checksum": "1e17ad41b0be49fcf64a31c07d07f2f5",
     "grade": false,
     "grade_id": "cell-1782c6a431bfcb43",
     "locked": true,
     "schema_version": 3,
     "solution": false,
     "task": false
    }
   },
   "source": [
    "## Question 1 (Manually Graded)\n",
    "\n",
    "How can I add two strings together? Give a short example in Python below.\n"
   ]
  },
  {
   "cell_type": "code",
   "execution_count": null,
   "metadata": {
    "deletable": false,
    "nbgrader": {
     "cell_type": "code",
     "checksum": "eda9704579ee2b9b8556cf7f4bd84ee2",
     "grade": true,
     "grade_id": "cell-f00238313079aa02",
     "locked": false,
     "points": 2,
     "schema_version": 3,
     "solution": true,
     "task": false
    }
   },
   "outputs": [],
   "source": [
    "# YOUR CODE HERE\n",
    "raise NotImplementedError()"
   ]
  },
  {
   "cell_type": "markdown",
   "metadata": {
    "deletable": false,
    "editable": false,
    "nbgrader": {
     "cell_type": "markdown",
     "checksum": "7e7037d511b2067d79c531622f461da6",
     "grade": false,
     "grade_id": "cell-a235c7c36e5a4548",
     "locked": true,
     "schema_version": 3,
     "solution": false,
     "task": false
    }
   },
   "source": [
    "## Question 2 (Autograded)\n",
    "\n",
    "Write a function `sum(x,y)` that returns a string indicating what the sum of $x$ and $y$ is. For example, when x=3 and y=17 your function should return the string `'The sum of 3 and 17 is 20.'` "
   ]
  },
  {
   "cell_type": "code",
   "execution_count": null,
   "metadata": {
    "deletable": false,
    "nbgrader": {
     "cell_type": "code",
     "checksum": "41b49cc0887e6148c119d3c46c910ed9",
     "grade": false,
     "grade_id": "cell-ec0eeb3d2f39c461",
     "locked": false,
     "schema_version": 3,
     "solution": true,
     "task": false
    }
   },
   "outputs": [],
   "source": [
    "def sum(x,y):\n",
    "    # YOUR CODE HERE\n",
    "    raise NotImplementedError()"
   ]
  },
  {
   "cell_type": "markdown",
   "metadata": {
    "deletable": false,
    "editable": false,
    "nbgrader": {
     "cell_type": "markdown",
     "checksum": "335331543e43a1427540588328338a01",
     "grade": false,
     "grade_id": "cell-a51ce7fec6a19414",
     "locked": true,
     "schema_version": 3,
     "solution": false,
     "task": false
    }
   },
   "source": [
    "Check that when x=3 and y=17, that your function returns the string 'The sum of 3 and 17 is 20.'"
   ]
  },
  {
   "cell_type": "code",
   "execution_count": null,
   "metadata": {},
   "outputs": [],
   "source": [
    "sum(3,17)"
   ]
  },
  {
   "cell_type": "code",
   "execution_count": null,
   "metadata": {
    "deletable": false,
    "editable": false,
    "nbgrader": {
     "cell_type": "code",
     "checksum": "8ee00eaa7b65345b7ba7dd46f4939ce7",
     "grade": true,
     "grade_id": "cell-f569382c691d7102",
     "locked": true,
     "points": 2,
     "schema_version": 3,
     "solution": false,
     "task": false
    }
   },
   "outputs": [],
   "source": [
    "\"\"\"Check that sum returns the correct output\"\"\"\n",
    "assert sum(102,-5) == \"The sum of 102 and -5 is 97.\"\n",
    "assert sum(25,10) == \"The sum of 25 and 10 is 35.\""
   ]
  },
  {
   "cell_type": "markdown",
   "metadata": {
    "deletable": false,
    "editable": false,
    "nbgrader": {
     "cell_type": "markdown",
     "checksum": "063bd6acd72d6076cb53508e76dae12d",
     "grade": false,
     "grade_id": "cell-24d9c33711a874ce",
     "locked": true,
     "schema_version": 3,
     "solution": false,
     "task": false
    }
   },
   "source": [
    "## Question 3 (Autograded)\n",
    "\n",
    "Finish the function below that takes in the length of the two parallel sides of a trapezoid $a$ and $b$, which are separated by a distance $h$, and returns its area."
   ]
  },
  {
   "cell_type": "code",
   "execution_count": null,
   "metadata": {
    "deletable": false,
    "nbgrader": {
     "cell_type": "code",
     "checksum": "973bb3611218e258a75fc64c6090a5bd",
     "grade": false,
     "grade_id": "cell-5b94e3d5b67a9d28",
     "locked": false,
     "schema_version": 3,
     "solution": true,
     "task": false
    }
   },
   "outputs": [],
   "source": [
    "def area_of_trapezoid(a, b, h):\n",
    "    # YOUR CODE HERE\n",
    "    raise NotImplementedError()"
   ]
  },
  {
   "cell_type": "code",
   "execution_count": null,
   "metadata": {
    "deletable": false,
    "editable": false,
    "nbgrader": {
     "cell_type": "code",
     "checksum": "d96ad530760aa176446669f28e54fa08",
     "grade": true,
     "grade_id": "cell-e714d87d023ae8da",
     "locked": true,
     "points": 2,
     "schema_version": 3,
     "solution": false,
     "task": false
    }
   },
   "outputs": [],
   "source": [
    "\"\"\"Check that area_of_triangle returns the correct output for several inputs\"\"\"\n",
    "assert abs(area_of_trapezoid(3,3, 5) - 15) <=.1\n",
    "assert abs(area_of_trapezoid(3,4, 5) - 17.5) <=.1"
   ]
  },
  {
   "cell_type": "markdown",
   "metadata": {
    "deletable": false,
    "editable": false,
    "nbgrader": {
     "cell_type": "markdown",
     "checksum": "82721e32552d15686987edb7001b5591",
     "grade": false,
     "grade_id": "cell-f7e3af772c5d2265",
     "locked": true,
     "schema_version": 3,
     "solution": false,
     "task": false
    }
   },
   "source": [
    "## Question 4 (Autograded)\n",
    "\n",
    "Complete the function below that takes in a temperature in Celsius and returns the temperature in Fahrenheit. Use `int()` to make the output an integer. As a reminder, the formula relating Celsius and Fahrenheit is \n",
    "    $$ c = \\frac{5}{9}(f-32).$$"
   ]
  },
  {
   "cell_type": "code",
   "execution_count": null,
   "metadata": {
    "deletable": false,
    "nbgrader": {
     "cell_type": "code",
     "checksum": "5950154f1e3a8a028adc99e6d9e00fad",
     "grade": false,
     "grade_id": "cell-5ca9f6058202dbd4",
     "locked": false,
     "schema_version": 3,
     "solution": true,
     "task": false
    }
   },
   "outputs": [],
   "source": [
    "def c_to_f(c):\n",
    "    # YOUR CODE HERE\n",
    "    raise NotImplementedError()"
   ]
  },
  {
   "cell_type": "code",
   "execution_count": null,
   "metadata": {},
   "outputs": [],
   "source": [
    "c_to_f(0)"
   ]
  },
  {
   "cell_type": "code",
   "execution_count": null,
   "metadata": {
    "deletable": false,
    "editable": false,
    "nbgrader": {
     "cell_type": "code",
     "checksum": "9414071f1c1265c3b8b24108d2cf5511",
     "grade": true,
     "grade_id": "cell-4ae7d8989344a234",
     "locked": true,
     "points": 2,
     "schema_version": 3,
     "solution": false,
     "task": false
    }
   },
   "outputs": [],
   "source": [
    "\"\"\"Check that formula is correct for several inputs\"\"\"\n",
    "assert c_to_f(22) == 71\n",
    "assert c_to_f(0) == 32"
   ]
  },
  {
   "cell_type": "markdown",
   "metadata": {
    "deletable": false,
    "editable": false,
    "nbgrader": {
     "cell_type": "markdown",
     "checksum": "c2af681ea5f219888f8068e69bffbe5c",
     "grade": false,
     "grade_id": "cell-3df7aaa3291891fb",
     "locked": true,
     "schema_version": 3,
     "solution": false,
     "task": false
    }
   },
   "source": [
    "## Question 5 (Autograded) \n",
    "\n",
    "Complete the function below that takes an integer as input and outputs whether or not the number is odd or even. Make sure you have an output that prints \"The number x is even/odd\", where $x$ was the input."
   ]
  },
  {
   "cell_type": "code",
   "execution_count": null,
   "metadata": {
    "deletable": false,
    "nbgrader": {
     "cell_type": "code",
     "checksum": "3cc7f866b80066824b97e764d43cb820",
     "grade": false,
     "grade_id": "cell-8bdf535b86f81065",
     "locked": false,
     "schema_version": 3,
     "solution": true,
     "task": false
    }
   },
   "outputs": [],
   "source": [
    "def even_or_odd(x):\n",
    "    \"\"\"Returns a string that declares if the entered number is even or odd.\n",
    "    You may assume the input is an integer.\"\"\"\n",
    "    # YOUR CODE HERE\n",
    "    raise NotImplementedError()"
   ]
  },
  {
   "cell_type": "code",
   "execution_count": null,
   "metadata": {},
   "outputs": [],
   "source": [
    "even_or_odd(17)"
   ]
  },
  {
   "cell_type": "code",
   "execution_count": null,
   "metadata": {
    "deletable": false,
    "editable": false,
    "nbgrader": {
     "cell_type": "code",
     "checksum": "80d4ad8618df0c18a0258448afd3a57a",
     "grade": true,
     "grade_id": "cell-90a84bd2ec87ba66",
     "locked": true,
     "points": 2,
     "schema_version": 3,
     "solution": false,
     "task": false
    }
   },
   "outputs": [],
   "source": [
    "\"\"\"Check that formula is correct for several inputs\"\"\"\n",
    "assert even_or_odd(9) == 'The number 9 is odd.'\n",
    "assert even_or_odd(12) == 'The number 12 is even.'\n"
   ]
  },
  {
   "cell_type": "markdown",
   "metadata": {
    "deletable": false,
    "editable": false,
    "nbgrader": {
     "cell_type": "markdown",
     "checksum": "ad243de9533239744ba8086c28555500",
     "grade": false,
     "grade_id": "cell-dabe1fb58885a053",
     "locked": true,
     "schema_version": 3,
     "solution": false,
     "task": false
    }
   },
   "source": [
    "## Question 6 (Manually graded)\n",
    "\n",
    "Write a Python function `draw(n)` that constructs the following pattern using the `print` function and a nested for loop. Here is what the output should look like for $n=5$, but with less space between lines.\n",
    "\n",
    "\\*\n",
    "\n",
    "\\* \\*\n",
    "\n",
    "\\* \\* \\* \n",
    "\n",
    "\\* \\* \\* \\* \n",
    "\n",
    "\\* \\* \\* \\* \\*\n",
    "\n",
    "\\* \\* \\* \\* \n",
    "\n",
    "\\* \\* \\* \n",
    "\n",
    "\\* \\* \n",
    "\n",
    "\\*\n",
    "<p>"
   ]
  },
  {
   "cell_type": "code",
   "execution_count": null,
   "metadata": {
    "deletable": false,
    "nbgrader": {
     "cell_type": "code",
     "checksum": "181e3ecfbe09b0bbc165652a5f0d684b",
     "grade": true,
     "grade_id": "cell-de10cb1197843042",
     "locked": false,
     "points": 2,
     "schema_version": 3,
     "solution": true,
     "task": false
    }
   },
   "outputs": [],
   "source": [
    "def draw(n):\n",
    "    # YOUR CODE HERE\n",
    "    raise NotImplementedError()"
   ]
  },
  {
   "cell_type": "markdown",
   "metadata": {
    "deletable": false,
    "editable": false,
    "nbgrader": {
     "cell_type": "markdown",
     "checksum": "2d7459299365de7223c222fced7a0e70",
     "grade": false,
     "grade_id": "cell-7c13f88c71085660",
     "locked": true,
     "schema_version": 3,
     "solution": false,
     "task": false
    }
   },
   "source": [
    "## Question 7 (Autograded)\n",
    "\n",
    "Write a function that takes in an integer $n$ and computes $n!$. Do this without recursion.\n"
   ]
  },
  {
   "cell_type": "code",
   "execution_count": null,
   "metadata": {
    "deletable": false,
    "nbgrader": {
     "cell_type": "code",
     "checksum": "0d302dd6965e793ac8ec1e71c3d7997d",
     "grade": false,
     "grade_id": "cell-fa29a00c195e5c2e",
     "locked": false,
     "schema_version": 3,
     "solution": true,
     "task": false
    }
   },
   "outputs": [],
   "source": [
    "def factorial_iter(n):\n",
    "    \"\"\"Takes in an integer n>0 and returns the product of all integers from 1 to n.\"\"\"\n",
    "    # YOUR CODE HERE\n",
    "    raise NotImplementedError()"
   ]
  },
  {
   "cell_type": "code",
   "execution_count": null,
   "metadata": {},
   "outputs": [],
   "source": []
  },
  {
   "cell_type": "code",
   "execution_count": null,
   "metadata": {
    "deletable": false,
    "editable": false,
    "nbgrader": {
     "cell_type": "code",
     "checksum": "a9b9efbf80510f8f10fccbfd56912181",
     "grade": true,
     "grade_id": "cell-21dfe4353655d5e5",
     "locked": true,
     "points": 2,
     "schema_version": 3,
     "solution": false,
     "task": false
    }
   },
   "outputs": [],
   "source": [
    "assert factorial_iter(6) == 720\n",
    "assert factorial_iter(7) == 5040\n",
    "assert factorial_iter(10) == 3628800"
   ]
  },
  {
   "cell_type": "code",
   "execution_count": null,
   "metadata": {},
   "outputs": [],
   "source": []
  }
 ],
 "metadata": {
  "kernelspec": {
   "display_name": "Python 3 (ipykernel)",
   "language": "python",
   "name": "python3"
  },
  "language_info": {
   "codemirror_mode": {
    "name": "ipython",
    "version": 3
   },
   "file_extension": ".py",
   "mimetype": "text/x-python",
   "name": "python",
   "nbconvert_exporter": "python",
   "pygments_lexer": "ipython3",
   "version": "3.8.12"
  }
 },
 "nbformat": 4,
 "nbformat_minor": 2
}
