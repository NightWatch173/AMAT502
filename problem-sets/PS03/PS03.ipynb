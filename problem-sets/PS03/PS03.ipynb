{
 "cells": [
  {
   "cell_type": "markdown",
   "metadata": {
    "deletable": false,
    "editable": false,
    "nbgrader": {
     "cell_type": "markdown",
     "checksum": "6fbcdc34615ea3e71a2a2f7bba551b19",
     "grade": false,
     "grade_id": "cell-08092e5733854f31",
     "locked": true,
     "schema_version": 3,
     "solution": false,
     "task": false
    }
   },
   "source": [
    "# Problem Set 03 (20 points)\n",
    "## Due Sunday September 26th, 2021 at 11:59PM\n",
    "### Topics\n",
    "- Recursion\n",
    "- Function Evaluation\n",
    "- Operations on Strings\n",
    "- Functions that return functions\n",
    "- OOPing your Dream House"
   ]
  },
  {
   "cell_type": "markdown",
   "metadata": {
    "deletable": false,
    "editable": false,
    "nbgrader": {
     "cell_type": "markdown",
     "checksum": "69209c1f584737fd2cf8251ce9cbadbb",
     "grade": false,
     "grade_id": "cell-0e7b9eb852dbff85",
     "locked": true,
     "schema_version": 3,
     "solution": false,
     "task": false
    }
   },
   "source": [
    "### Exercise 1 (2 pts, autograded):\n",
    "\n",
    "Recall that the Fibonacci sequence 0,1,1,2,3,5,8..., is defined by $f_0=0$, $f_1=f_2=1$ and $f_k = f_{k-1} + f_{k-2}$ for $k\\geq 3$. \n",
    "\n",
    "In this problem we want to produce a **generalized Fibonacci sequence** where $g_0=0$, $g_1=n$, $g_2=m$ and $g_k = g_{k-1} + g_{k-2}$ for $k\\geq 3$. \n",
    "\n",
    "For this problem, finish the function below `gen_Fib(n,m,k)` with a *recursive* implementation so that `gen_Fib(n,m,k)` returns the kth term in the generalized Fibonacci sequence, defined above."
   ]
  },
  {
   "cell_type": "code",
   "execution_count": null,
   "metadata": {
    "deletable": false,
    "nbgrader": {
     "cell_type": "code",
     "checksum": "b371d6b60099d0c2dfb187b5f8ec6414",
     "grade": false,
     "grade_id": "cell-2687064ceb2ed9da",
     "locked": false,
     "schema_version": 3,
     "solution": true,
     "task": false
    }
   },
   "outputs": [],
   "source": [
    "def gen_Fib(n,m,k):\n",
    "    \"\"\"Takes in 3 integers n, m, k and \n",
    "    returns the kth element of the generalized Fibonacci sequence \n",
    "    that starts as ...0,n,m,n+m, n+2m,\"\"\"\n",
    "    # YOUR CODE HERE\n",
    "    raise NotImplementedError()"
   ]
  },
  {
   "cell_type": "code",
   "execution_count": null,
   "metadata": {
    "deletable": false,
    "editable": false,
    "nbgrader": {
     "cell_type": "code",
     "checksum": "1dafc8e77d744c7f6b92ec41deea29bd",
     "grade": true,
     "grade_id": "cell-7d2f52820b706f74",
     "locked": true,
     "points": 2,
     "schema_version": 3,
     "solution": false,
     "task": false
    }
   },
   "outputs": [],
   "source": [
    "assert gen_Fib(1,1,7) == 13\n",
    "assert gen_Fib(1,1,10) == 55\n",
    "assert gen_Fib(1,3,5) == 11\n",
    "assert gen_Fib(1,3,10) == 123\n",
    "assert gen_Fib(1,-1,8) == -5"
   ]
  },
  {
   "cell_type": "markdown",
   "metadata": {
    "deletable": false,
    "editable": false,
    "nbgrader": {
     "cell_type": "markdown",
     "checksum": "38654da55752f3ef7fb9b7d20b0e99f1",
     "grade": false,
     "grade_id": "cell-73d0ff875611e5ee",
     "locked": true,
     "schema_version": 3,
     "solution": false,
     "task": false
    }
   },
   "source": [
    "### **Exercise 2 (2 pts, autograded):** \n",
    "Finish the function below that computes \"n double factorial\", written $n!!$ , recursively. As a reminder, this is defined iteratively as $$n!!=n*(n-2)*(n-4)*...$$ Make sure your program handles even and odd cases. Assume $0!!=1$ and $1!!=1$."
   ]
  },
  {
   "cell_type": "code",
   "execution_count": null,
   "metadata": {
    "deletable": false,
    "nbgrader": {
     "cell_type": "code",
     "checksum": "5a735822acf6dea50ec442c8e8560ff6",
     "grade": false,
     "grade_id": "cell-d3fc932800eb5b21",
     "locked": false,
     "schema_version": 3,
     "solution": true,
     "task": false
    }
   },
   "outputs": [],
   "source": [
    "def nDoubleFactorial(n):\n",
    "    \"\"\"Takes in an integer n and returns n!! \n",
    "    We assume n!! for n<=1 is 1.\"\"\"\n",
    "    # YOUR CODE HERE\n",
    "    raise NotImplementedError()"
   ]
  },
  {
   "cell_type": "code",
   "execution_count": null,
   "metadata": {},
   "outputs": [],
   "source": []
  },
  {
   "cell_type": "code",
   "execution_count": null,
   "metadata": {
    "deletable": false,
    "editable": false,
    "nbgrader": {
     "cell_type": "code",
     "checksum": "12363b1ced89ba6be3aa1c5ae1793620",
     "grade": true,
     "grade_id": "cell-3332b37b53ac2d5a",
     "locked": true,
     "points": 2,
     "schema_version": 3,
     "solution": false,
     "task": false
    }
   },
   "outputs": [],
   "source": [
    "assert nDoubleFactorial(2) == 2\n",
    "assert nDoubleFactorial(3) == 3\n",
    "assert nDoubleFactorial(4) == 8\n",
    "assert nDoubleFactorial(5) == 15\n",
    "assert nDoubleFactorial(6) == 48"
   ]
  },
  {
   "cell_type": "markdown",
   "metadata": {
    "deletable": false,
    "editable": false,
    "nbgrader": {
     "cell_type": "markdown",
     "checksum": "0fac16454e53d7d7620b340abb189bd1",
     "grade": false,
     "grade_id": "cell-eeaea3d7f7b13c0b",
     "locked": true,
     "schema_version": 3,
     "solution": false,
     "task": false
    }
   },
   "source": [
    "### Exercise 3: (3 pts, manually graded): Counting recursive calls\n",
    "\n",
    "In the recursive function `fib` that we introduced in Lecture 04 to compute the Fibonacci numbers, how many times is `fib(2)` called when `fib(5)` is called? \n",
    "\n",
    "Write some code and explain your reasoning."
   ]
  },
  {
   "cell_type": "code",
   "execution_count": null,
   "metadata": {
    "deletable": false,
    "nbgrader": {
     "cell_type": "code",
     "checksum": "a68243dec28b22cadd11e7caa7673546",
     "grade": true,
     "grade_id": "cell-181b16ec2ec265a0",
     "locked": false,
     "points": 3,
     "schema_version": 3,
     "solution": true,
     "task": false
    }
   },
   "outputs": [],
   "source": [
    "# YOUR CODE HERE\n",
    "raise NotImplementedError()"
   ]
  },
  {
   "cell_type": "markdown",
   "metadata": {
    "deletable": false,
    "editable": false,
    "nbgrader": {
     "cell_type": "markdown",
     "checksum": "0edb2e0f6ad52d09dae622a01b8bb7f8",
     "grade": false,
     "grade_id": "cell-e8ee45963da5b265",
     "locked": true,
     "schema_version": 3,
     "solution": false,
     "task": false
    }
   },
   "source": [
    "### Exercise 4: (5 pts, over two parts) \n",
    "\n",
    "#### Exercise 4, Part A (3 pts, autograded) \n",
    "Complete the `isPal` function below that takes in a string and returns `True` if the entered string is a palindrome and `False` otherwise. Punctuation marks, blank spaces, and capitalization are ignored, by virtue of the sub-function `toChar(s)`. Recall that a palindrome is a string that is the same whether it is read forwards or backwards. Your code should return true if it is given the string 'Was it a cat, I saw?'"
   ]
  },
  {
   "cell_type": "code",
   "execution_count": null,
   "metadata": {
    "deletable": false,
    "nbgrader": {
     "cell_type": "code",
     "checksum": "4d6fdbf7fa8b589e22e48b19e58f1424",
     "grade": false,
     "grade_id": "cell-7b0500bfaf000063",
     "locked": false,
     "schema_version": 3,
     "solution": true,
     "task": false
    }
   },
   "outputs": [],
   "source": [
    "def isPalindrome(s): \n",
    "    \"\"\"Assumes s is a str\n",
    "    Returns True if the letters in s form a palindrome;\n",
    "    False otherwise. Non-letters and capitalization are ignored.\"\"\"\n",
    "    def toChars(s): \n",
    "        t = s.lower() \n",
    "        letters = '' \n",
    "        for c in t:\n",
    "            if c in 'abcdefghijklmnopqrstuvwxyz': \n",
    "                letters = letters + c\n",
    "        return letters\n",
    "    \n",
    "    def isPal(s):\n",
    "        # YOUR CODE HERE\n",
    "        raise NotImplementedError()\n",
    "    return isPal(toChars(s))"
   ]
  },
  {
   "cell_type": "code",
   "execution_count": null,
   "metadata": {
    "deletable": false,
    "editable": false,
    "nbgrader": {
     "cell_type": "code",
     "checksum": "470b2a92ab85478ba747b8f77fd06100",
     "grade": true,
     "grade_id": "cell-11891cc9059d5d91",
     "locked": true,
     "points": 3,
     "schema_version": 3,
     "solution": false,
     "task": false
    }
   },
   "outputs": [],
   "source": [
    "assert isPalindrome('Was it a cat, I saw?') == True\n",
    "assert isPalindrome(\"Never odd or even\") == True"
   ]
  },
  {
   "cell_type": "markdown",
   "metadata": {
    "deletable": false,
    "editable": false,
    "nbgrader": {
     "cell_type": "markdown",
     "checksum": "70764debe74a9fd84c65c5b47453bbcd",
     "grade": false,
     "grade_id": "cell-fed88c9047bbc77e",
     "locked": true,
     "schema_version": 3,
     "solution": false,
     "task": false
    }
   },
   "source": [
    "#### Exercise 4, Part B (2pts, manually graded) \n",
    "Explain in words why the code for `toChar(s)` had to create a new string `t` with `t= s.lower()`. Why couldn't we modify the string `s` directly?"
   ]
  },
  {
   "cell_type": "markdown",
   "metadata": {
    "deletable": false,
    "nbgrader": {
     "cell_type": "markdown",
     "checksum": "793952389a6e57223bc35883fc3003bc",
     "grade": true,
     "grade_id": "cell-a2afc668e2da74c6",
     "locked": false,
     "points": 2,
     "schema_version": 3,
     "solution": true,
     "task": false
    }
   },
   "source": [
    "YOUR ANSWER HERE"
   ]
  },
  {
   "cell_type": "markdown",
   "metadata": {
    "deletable": false,
    "editable": false,
    "nbgrader": {
     "cell_type": "markdown",
     "checksum": "5c22e260bca496051fdfd61fe8ec96b1",
     "grade": false,
     "grade_id": "cell-e248d0c2268e493e",
     "locked": true,
     "schema_version": 3,
     "solution": false,
     "task": false
    }
   },
   "source": [
    "### Exercise 5 (3pts, autograded): Functions that return Functions\n",
    "\n",
    "Write a function `myPoly(coeffs)` that takes in a list of coefficients `coeffs=[a_0, a_1, a_2,...,a_n]` and returns a *function*\n",
    "$$f(x)= a_n x^n + \\cdots + a_1 x + a_0$$"
   ]
  },
  {
   "cell_type": "code",
   "execution_count": null,
   "metadata": {
    "deletable": false,
    "nbgrader": {
     "cell_type": "code",
     "checksum": "4bd7e78f99c90d8b139bcf69b51b0a7e",
     "grade": false,
     "grade_id": "cell-cbe8df64706a0be0",
     "locked": false,
     "schema_version": 3,
     "solution": true,
     "task": false
    }
   },
   "outputs": [],
   "source": [
    "def myPoly(coeffs):\n",
    "    \"\"\"coeffs is a list of floats or ints, function returns a polynomial with \n",
    "    the kth entry in coeffs as the coefficient of the monomial x^k\"\"\"\n",
    "    # YOUR CODE HERE\n",
    "    raise NotImplementedError()"
   ]
  },
  {
   "cell_type": "code",
   "execution_count": null,
   "metadata": {
    "deletable": false,
    "editable": false,
    "nbgrader": {
     "cell_type": "code",
     "checksum": "e601bbf74e9eb453f1dbf0db43d767c0",
     "grade": true,
     "grade_id": "cell-6756057eac2876cf",
     "locked": true,
     "points": 3,
     "schema_version": 3,
     "solution": false,
     "task": false
    }
   },
   "outputs": [],
   "source": [
    "assert abs(myPoly([1,2,1])(5) - 36) <= .1\n",
    "assert abs(myPoly([1,1,1])(5) - 31) <= .1\n",
    "assert abs(myPoly([1,2,3])(4) - 57) <= .1"
   ]
  },
  {
   "cell_type": "markdown",
   "metadata": {
    "deletable": false,
    "editable": false,
    "nbgrader": {
     "cell_type": "markdown",
     "checksum": "dff05b3ba15693becaf378298e19a535",
     "grade": false,
     "grade_id": "cell-bec3646edbebef09",
     "locked": true,
     "schema_version": 3,
     "solution": false,
     "task": false
    }
   },
   "source": [
    "### Exercise 6 (5 pts, manually graded)\n",
    "\n",
    "#### Part A (2 pts, manually graded)\n",
    "Let's make a new class called `House` that where you have to provide the following attributes in the `__init__` function:\n",
    "- address,\n",
    "- style, (see [this list](https://www.diynetwork.com/how-to/rooms-and-spaces/exterior/26-popular-architectural-home-styles-pictures) for inspiration)\n",
    "- yearBuilt\n",
    "- numUnits (are there rental units in the property?)\n",
    "- numFloors (how many floors does it have?)\n",
    "\n",
    "You should also include the attributes and provide methods to change the values of (or just check!) \n",
    "- doorsLocked\n",
    "- windowsClosed"
   ]
  },
  {
   "cell_type": "code",
   "execution_count": null,
   "metadata": {
    "deletable": false,
    "nbgrader": {
     "cell_type": "code",
     "checksum": "087fdda2b63101165515598252673950",
     "grade": true,
     "grade_id": "cell-1cd99f2f668b3de6",
     "locked": false,
     "points": 2,
     "schema_version": 3,
     "solution": true,
     "task": false
    }
   },
   "outputs": [],
   "source": [
    "# YOUR CODE HERE\n",
    "raise NotImplementedError()"
   ]
  },
  {
   "cell_type": "markdown",
   "metadata": {
    "deletable": false,
    "editable": false,
    "nbgrader": {
     "cell_type": "markdown",
     "checksum": "e0102e142e09b6757e65adc51e8bae50",
     "grade": false,
     "grade_id": "cell-892d12d748151795",
     "locked": true,
     "schema_version": 3,
     "solution": false,
     "task": false
    }
   },
   "source": [
    "#### Part B (3pts, manually graded)\n",
    "\n",
    "Add at least 3 new attributes and 3 methods for manipulating these attributes. Get creative!"
   ]
  },
  {
   "cell_type": "code",
   "execution_count": null,
   "metadata": {
    "deletable": false,
    "nbgrader": {
     "cell_type": "code",
     "checksum": "92ac9df3baa35a4273ab50e438856525",
     "grade": true,
     "grade_id": "cell-e7da709b5aeb47be",
     "locked": false,
     "points": 3,
     "schema_version": 3,
     "solution": true,
     "task": false
    }
   },
   "outputs": [],
   "source": [
    "# YOUR CODE HERE\n",
    "raise NotImplementedError()"
   ]
  }
 ],
 "metadata": {
  "kernelspec": {
   "display_name": "Python 3",
   "language": "python",
   "name": "python3"
  },
  "language_info": {
   "codemirror_mode": {
    "name": "ipython",
    "version": 3
   },
   "file_extension": ".py",
   "mimetype": "text/x-python",
   "name": "python",
   "nbconvert_exporter": "python",
   "pygments_lexer": "ipython3",
   "version": "3.8.11"
  }
 },
 "nbformat": 4,
 "nbformat_minor": 2
}
