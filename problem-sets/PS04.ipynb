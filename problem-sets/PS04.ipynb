{
 "cells": [
  {
   "cell_type": "markdown",
   "id": "92418f37",
   "metadata": {
    "deletable": false,
    "editable": false,
    "nbgrader": {
     "cell_type": "markdown",
     "checksum": "22fb3f084d6c8854167182c0b0d6e769",
     "grade": false,
     "grade_id": "cell-9dee2a7225dde0ac",
     "locked": true,
     "schema_version": 3,
     "solution": false,
     "task": false
    }
   },
   "source": [
    "# Problem Set 04 (20 pts)\n",
    "## Due Friday October 8th, 2021\n",
    "### Topics:\n",
    "* Mortgages and Plotting\n",
    "* Numpy\n",
    "* Probability and Plotting"
   ]
  },
  {
   "cell_type": "markdown",
   "id": "6c05c385",
   "metadata": {
    "deletable": false,
    "editable": false,
    "nbgrader": {
     "cell_type": "markdown",
     "checksum": "5547bf80819a750d268b2681bd840a5f",
     "grade": false,
     "grade_id": "cell-c5bcba2dfc8ba346",
     "locked": true,
     "schema_version": 3,
     "solution": false,
     "task": false
    }
   },
   "source": [
    "### Question 1 (1 pt, manually graded): List Comprehension\n",
    "\n",
    "Using list comprehension, list all of the numbers from 1-105 that are divisible by 7."
   ]
  },
  {
   "cell_type": "code",
   "execution_count": null,
   "id": "bce97b00",
   "metadata": {
    "deletable": false,
    "nbgrader": {
     "cell_type": "code",
     "checksum": "c72a17581ac68c5278dd4825a2b3f528",
     "grade": true,
     "grade_id": "cell-697c6d10d66d9b79",
     "locked": false,
     "points": 1,
     "schema_version": 3,
     "solution": true,
     "task": false
    }
   },
   "outputs": [],
   "source": [
    "# YOUR CODE HERE\n",
    "raise NotImplementedError()"
   ]
  },
  {
   "cell_type": "markdown",
   "id": "439d6723",
   "metadata": {
    "deletable": false,
    "editable": false,
    "nbgrader": {
     "cell_type": "markdown",
     "checksum": "f329ec9a65f811b0714fd01d9fe18ed9",
     "grade": false,
     "grade_id": "cell-a8528aa85698eb22",
     "locked": true,
     "schema_version": 3,
     "solution": false,
     "task": false
    }
   },
   "source": [
    "### Question 2 (1pt, manually graded): Strings & List Comprehension\n",
    "\n",
    "Use list comprehension to count the number of spaces in the string `\"This is a test string\"`"
   ]
  },
  {
   "cell_type": "code",
   "execution_count": null,
   "id": "4be17f8b",
   "metadata": {
    "deletable": false,
    "nbgrader": {
     "cell_type": "code",
     "checksum": "34e489a27cefee896e07beca6a2e2714",
     "grade": true,
     "grade_id": "cell-186d1fe869ee4770",
     "locked": false,
     "points": 1,
     "schema_version": 3,
     "solution": true,
     "task": false
    }
   },
   "outputs": [],
   "source": [
    "# YOUR CODE HERE\n",
    "raise NotImplementedError()"
   ]
  },
  {
   "cell_type": "markdown",
   "id": "756ed51c",
   "metadata": {
    "deletable": false,
    "editable": false,
    "nbgrader": {
     "cell_type": "markdown",
     "checksum": "d8c50c385640e32ef1ec07792156090c",
     "grade": false,
     "grade_id": "cell-3eeda43d1e3703a5",
     "locked": true,
     "schema_version": 3,
     "solution": false,
     "task": false
    }
   },
   "source": [
    "### Question 3 (2pts, manually graded): Strings & List Comprehension\n",
    "\n",
    "Use the `split()` function on a string to see what it does when you don't pass any parameters. \n",
    "\n",
    "Then, use this and list comprehension to make a list that only keeps the words that are less than or equal to four letters in the string \n",
    "\n",
    "`\"Poincaré's homology sphere is a closed 3- manifold with the same homology as the 3-sphere but with a fundamental group which is non-trivial.\"` \n",
    "\n",
    "The output should be\n",
    "\n",
    "`['is', 'a', '3-', 'the', 'as', 'the', 'but', 'a', 'is']`"
   ]
  },
  {
   "cell_type": "code",
   "execution_count": null,
   "id": "905d90f1",
   "metadata": {
    "deletable": false,
    "nbgrader": {
     "cell_type": "code",
     "checksum": "210b1ad50ea373074a5b4aee6653c9ca",
     "grade": true,
     "grade_id": "cell-89279d098e0ec19b",
     "locked": false,
     "points": 2,
     "schema_version": 3,
     "solution": true,
     "task": false
    }
   },
   "outputs": [],
   "source": [
    "# YOUR CODE HERE\n",
    "raise NotImplementedError()"
   ]
  },
  {
   "cell_type": "markdown",
   "id": "4b173747",
   "metadata": {
    "deletable": false,
    "editable": false,
    "nbgrader": {
     "cell_type": "markdown",
     "checksum": "422efdc715ad6d67268755f072ebfa81",
     "grade": false,
     "grade_id": "cell-5fe2b09de827e161",
     "locked": true,
     "schema_version": 3,
     "solution": false,
     "task": false
    }
   },
   "source": [
    "### Question 4 (4 pts, manually graded): Mortgages\n",
    "\n",
    "Produce a plot that shows how much is owed on a $250,000 loan with\n",
    "\n",
    "1) a fixed 5% loan for 30 years, and \n",
    "\n",
    "2) a two rate mortgage that has a 3.5% rate for 5 years and then 7% for the remaining 25 years\n",
    "\n",
    "Your figure should look like the following, with the x-axis label saying \"Number of Months\" the y-axis label saying \"Balance Remaining\" and the legend describing the two curves.\n",
    "\n",
    "![Mortgage Comparison](Mortgage_Comparison.png)\n",
    "\n",
    "I've included the code from lecture below. Make sure to import any libraries you may need for plotting."
   ]
  },
  {
   "cell_type": "code",
   "execution_count": null,
   "id": "19cfd258",
   "metadata": {},
   "outputs": [],
   "source": [
    "def findPayment(loan,r,m):\n",
    "    \"\"\"Assumes: loan and r are floats, m an int\n",
    "     Returns the monthly payment for a mortgage of size\n",
    "     loan at a monthly rate of r for m months\"\"\"\n",
    "    return loan*(r*(1+r)**m)/((1+r)**m -1)\n",
    "\n",
    "class Mortgage(object):\n",
    "    \"\"\"Abstract class for building different kinds of mortgages\"\"\"\n",
    "    \n",
    "    def __init__(self, loan, annRate, months):\n",
    "        \"\"\"Assumes: loan and annRate are floats, months an int.\n",
    "        Creates a new mortgage of size loan, duration months, and\n",
    "        annual rate annRate\"\"\"\n",
    "        self.loan = loan\n",
    "        self.rate = annRate/12.0\n",
    "        self.months = months\n",
    "        self.paid = [0.0]\n",
    "        self.owed = [loan]\n",
    "        self.payment = findPayment(loan, self.rate, months)\n",
    "        self.legend = None #description of mortgage\n",
    "        \n",
    "    def makePayment(self):\n",
    "        \"\"\"Make a payment\"\"\"\n",
    "        self.paid.append(self.payment)\n",
    "        reduction = self.payment - self.owed[-1]*self.rate\n",
    "        self.owed.append(self.owed[-1] - reduction) #remember that [-1] returns the last element of a list\n",
    "    \n",
    "    def getTotalPaid(self):\n",
    "        \"\"\"Return the total amount paid so far\"\"\"\n",
    "        return sum(self.paid)\n",
    "    \n",
    "    def __str__(self):\n",
    "        return self.legend\n",
    "    \n",
    "class Fixed(Mortgage):\n",
    "    def __init__(self, loan, r, months):\n",
    "        Mortgage.__init__(self, loan, r, months)\n",
    "        self.legend = 'Fixed, ' + str(r*100) + '%'\n",
    "\n",
    "class FixedWithPts(Mortgage):\n",
    "    \n",
    "    def __init__(self, loan, r, months, pts):\n",
    "        Mortgage.__init__(self, loan, r, months)\n",
    "        self.pts = pts\n",
    "        self.paid = [loan*(pts/100.0)]\n",
    "        self.legend = 'Fixed, ' + str(r*100) + '%, '\\\n",
    "                    + str(pts) + ' points'\n",
    "class TwoRate(Mortgage):\n",
    "    def __init__(self, loan, r, months, teaserRate, teaserMonths):\n",
    "        Mortgage.__init__(self, loan, teaserRate, months)\n",
    "        self.teaserMonths = teaserMonths\n",
    "        self.teaserRate = teaserRate\n",
    "        self.nextRate = r/12.0\n",
    "        self.legend = str(teaserRate*100)\\\n",
    "                + '% for ' + str(self.teaserMonths)\\\n",
    "                + ' months, then ' + str(round(r*100,2)) + '%'\n",
    "    \n",
    "    def makePayment(self):\n",
    "        if len(self.paid) == self.teaserMonths + 1:\n",
    "            self.rate = self.nextRate\n",
    "            self.payment = findPayment(self.owed[-1], self.rate, self.months - self.teaserMonths)\n",
    "        \n",
    "        Mortgage.makePayment(self)"
   ]
  },
  {
   "cell_type": "code",
   "execution_count": null,
   "id": "f75ebe77",
   "metadata": {
    "deletable": false,
    "nbgrader": {
     "cell_type": "code",
     "checksum": "e4b086d852cce3cca42d563bd868cc2a",
     "grade": true,
     "grade_id": "cell-bae0e83e94a37782",
     "locked": false,
     "points": 4,
     "schema_version": 3,
     "solution": true,
     "task": false
    }
   },
   "outputs": [],
   "source": [
    "# YOUR CODE HERE\n",
    "raise NotImplementedError()"
   ]
  },
  {
   "cell_type": "markdown",
   "id": "2a64a3ee",
   "metadata": {
    "deletable": false,
    "editable": false,
    "nbgrader": {
     "cell_type": "markdown",
     "checksum": "b0c38f0b424e78076042b842f0dee278",
     "grade": false,
     "grade_id": "cell-5367dec8ecf6d288",
     "locked": true,
     "schema_version": 3,
     "solution": false,
     "task": false
    }
   },
   "source": [
    "### Question 5 (4 pts, manually graded): Mortgages\n",
    "\n",
    "This is a math question and an opportunity to practice your $\\LaTeX$. A derivation of the formula is required for full credit. \n",
    "\n",
    "*N.B. Finding a closed form formula is hard, so don't feel ashamed to find a computational solution, which is worth 3 points*\n",
    "\n",
    "Assuming a fixed rate mortage of rate $r$ with a loan period of $N$ months.\n",
    "\n",
    "**In what month $k$ have you paid off half the original (principal) loan amount, but in month $k-1$ you still owe more than half of the principal?** \n",
    "\n",
    "The ideal answer should be a function of $N$ and $r$."
   ]
  },
  {
   "cell_type": "markdown",
   "id": "7c49ee9b",
   "metadata": {
    "deletable": false,
    "nbgrader": {
     "cell_type": "markdown",
     "checksum": "efc7b0cbcf2f15eb0c42a739b87c21e7",
     "grade": true,
     "grade_id": "cell-11e024d4c17f0c42",
     "locked": false,
     "points": 4,
     "schema_version": 3,
     "solution": true,
     "task": false
    }
   },
   "source": [
    "YOUR ANSWER HERE"
   ]
  },
  {
   "cell_type": "markdown",
   "id": "3e9ab200",
   "metadata": {
    "deletable": false,
    "editable": false,
    "nbgrader": {
     "cell_type": "markdown",
     "checksum": "d44ef93668c1b756244f184ddbdfa8f0",
     "grade": false,
     "grade_id": "cell-7d1a6bb74d0c34e5",
     "locked": true,
     "schema_version": 3,
     "solution": false,
     "task": false
    }
   },
   "source": [
    "### Question 6 (2 pts, autograded): NumPy\n",
    "\n",
    "Complete the function below so that an integer $n$ is taken in as input and returns a NumPy array of the odd numbers between 0 and n (inclusive)."
   ]
  },
  {
   "cell_type": "code",
   "execution_count": null,
   "id": "06e77914",
   "metadata": {
    "deletable": false,
    "nbgrader": {
     "cell_type": "code",
     "checksum": "8b84aef01a916563d624cc223cfaedfa",
     "grade": false,
     "grade_id": "cell-8abcd46b95f58383",
     "locked": false,
     "schema_version": 3,
     "solution": true,
     "task": false
    }
   },
   "outputs": [],
   "source": [
    "import numpy as np\n",
    "def beOdd(n):\n",
    "    # YOUR CODE HERE\n",
    "    raise NotImplementedError()"
   ]
  },
  {
   "cell_type": "code",
   "execution_count": null,
   "id": "f3bcb356",
   "metadata": {
    "deletable": false,
    "editable": false,
    "nbgrader": {
     "cell_type": "code",
     "checksum": "8412d3ff3a20df7a3c73a58a90933b76",
     "grade": true,
     "grade_id": "cell-b0f585eb851a0950",
     "locked": true,
     "points": 2,
     "schema_version": 3,
     "solution": false,
     "task": false
    }
   },
   "outputs": [],
   "source": [
    "#TEST CASES\n",
    "np.testing.assert_array_equal(beOdd(10),np.array([1, 3, 5, 7, 9]))\n",
    "np.testing.assert_array_equal(beOdd(30),np.array([ 1,  3,  5,  7,  9, 11, 13, 15, 17, 19, 21, 23, 25, 27, 29]))"
   ]
  },
  {
   "cell_type": "markdown",
   "id": "1dd6f701",
   "metadata": {
    "deletable": false,
    "editable": false,
    "nbgrader": {
     "cell_type": "markdown",
     "checksum": "315c567234aee1a2c57cd61029449907",
     "grade": false,
     "grade_id": "cell-e0bcd0f1650a957b",
     "locked": true,
     "schema_version": 3,
     "solution": false,
     "task": false
    }
   },
   "source": [
    "### Question 7 (2 pts, autograded): NumPy\n",
    "\n",
    "Complete the function below so that an integer $n$ is taken as input and returns a Numpy array of the numbers between 0 and n (inclusive), but where every entry that is congruent to 1 modulo 3 is replaced with -42."
   ]
  },
  {
   "cell_type": "code",
   "execution_count": null,
   "id": "0169587b",
   "metadata": {
    "deletable": false,
    "nbgrader": {
     "cell_type": "code",
     "checksum": "1bb6f7c52c2ca2247313429128a28658",
     "grade": false,
     "grade_id": "cell-04d1208c725b73d7",
     "locked": false,
     "schema_version": 3,
     "solution": true,
     "task": false
    }
   },
   "outputs": [],
   "source": [
    "def replace1mod3(n):\n",
    "    # YOUR CODE HERE\n",
    "    raise NotImplementedError()"
   ]
  },
  {
   "cell_type": "code",
   "execution_count": null,
   "id": "6058c97e",
   "metadata": {
    "deletable": false,
    "editable": false,
    "nbgrader": {
     "cell_type": "code",
     "checksum": "0a4cbaa8ba87ecdf6004de1e4bb42d12",
     "grade": true,
     "grade_id": "cell-761fb1be341f9dc6",
     "locked": true,
     "points": 2,
     "schema_version": 3,
     "solution": false,
     "task": false
    }
   },
   "outputs": [],
   "source": [
    "np.testing.assert_array_equal(replace1mod3(10),np.array([0,-42,2,3,-42,5,6,-42,8,9,-42]))\n",
    "np.testing.assert_array_equal(replace1mod3(15),np.array([0,-42,2,3,-42,5,6,-42,8,9,-42,11,12,-42,14,15]))"
   ]
  },
  {
   "cell_type": "markdown",
   "id": "da189aec",
   "metadata": {
    "deletable": false,
    "editable": false,
    "nbgrader": {
     "cell_type": "markdown",
     "checksum": "edf7126df0675f541e0005d8fc19c2bf",
     "grade": false,
     "grade_id": "cell-dc7e8291f7a1ff0f",
     "locked": true,
     "schema_version": 3,
     "solution": false,
     "task": false
    }
   },
   "source": [
    "### Question 8 (4pts, manually graded): Rolling a Die Twice\n",
    "#### Part A\n",
    "Write a function that calculates the probability of rolling exactly two 3's in k rolls of a fair six sided die. \n"
   ]
  },
  {
   "cell_type": "code",
   "execution_count": null,
   "id": "414d718b",
   "metadata": {
    "deletable": false,
    "nbgrader": {
     "cell_type": "code",
     "checksum": "aa209665759f9c91aa45f6f0b7867e68",
     "grade": true,
     "grade_id": "cell-03a0c8a87e2db1a6",
     "locked": false,
     "points": 2,
     "schema_version": 3,
     "solution": true,
     "task": false
    }
   },
   "outputs": [],
   "source": [
    "# YOUR CODE HERE\n",
    "raise NotImplementedError()"
   ]
  },
  {
   "cell_type": "markdown",
   "id": "55c2d97c",
   "metadata": {
    "deletable": false,
    "editable": false,
    "nbgrader": {
     "cell_type": "markdown",
     "checksum": "d549fd857bca7cff7da13eef2d79e207",
     "grade": false,
     "grade_id": "cell-b254a7c60e052a93",
     "locked": true,
     "schema_version": 3,
     "solution": false,
     "task": false
    }
   },
   "source": [
    "#### Part B\n",
    "Use the function from Q8, Part A to plot the probability as k varies from 2 to 100."
   ]
  },
  {
   "cell_type": "code",
   "execution_count": null,
   "id": "681fbd62",
   "metadata": {
    "deletable": false,
    "nbgrader": {
     "cell_type": "code",
     "checksum": "3fd7c120668b7f9d40bc1e0b628fd6f0",
     "grade": true,
     "grade_id": "cell-cb52863b7497db0d",
     "locked": false,
     "points": 2,
     "schema_version": 3,
     "solution": true,
     "task": false
    }
   },
   "outputs": [],
   "source": [
    "# YOUR CODE HERE\n",
    "raise NotImplementedError()"
   ]
  }
 ],
 "metadata": {
  "kernelspec": {
   "display_name": "Python 3",
   "language": "python",
   "name": "python3"
  },
  "language_info": {
   "codemirror_mode": {
    "name": "ipython",
    "version": 3
   },
   "file_extension": ".py",
   "mimetype": "text/x-python",
   "name": "python",
   "nbconvert_exporter": "python",
   "pygments_lexer": "ipython3",
   "version": "3.8.11"
  }
 },
 "nbformat": 4,
 "nbformat_minor": 5
}
