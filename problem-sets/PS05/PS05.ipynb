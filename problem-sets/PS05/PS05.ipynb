{
 "cells": [
  {
   "cell_type": "markdown",
   "metadata": {
    "deletable": false,
    "editable": false,
    "nbgrader": {
     "cell_type": "markdown",
     "checksum": "296d2d3320129276a792603256604587",
     "grade": false,
     "grade_id": "cell-6d1fefa22f193d7f",
     "locked": true,
     "schema_version": 3,
     "solution": false,
     "task": false
    }
   },
   "source": [
    "# Problem Set 05 (16 pts)\n",
    "## Due Sunday, October 24th, 2021\n",
    "### Topics:\n",
    "* Pandas\n",
    "* Covariance and Correlation\n",
    "* Regression"
   ]
  },
  {
   "cell_type": "markdown",
   "metadata": {
    "deletable": false,
    "editable": false,
    "nbgrader": {
     "cell_type": "markdown",
     "checksum": "8a6fa0fb470641a5945a8a4cbe449097",
     "grade": false,
     "grade_id": "cell-4b056eaca36e4201",
     "locked": true,
     "schema_version": 3,
     "solution": false,
     "task": false
    }
   },
   "source": [
    "### Background\n",
    "\n",
    "In the first iteration of AMAT 502, I polled students to answer the following questionnaire and recorded their responses in two CSV (comma separated value) files.\n",
    "\n",
    "Here are the questions:\n",
    "![Course Evaluation](course-eval.png)"
   ]
  },
  {
   "cell_type": "markdown",
   "metadata": {
    "deletable": false,
    "editable": false,
    "nbgrader": {
     "cell_type": "markdown",
     "checksum": "646c9cd7ddf084c443659a4043112a99",
     "grade": false,
     "grade_id": "cell-ee6b353fe45ecda3",
     "locked": true,
     "schema_version": 3,
     "solution": false,
     "task": false
    }
   },
   "source": [
    "**Exercise 1 (2pts, autograded, but will generate errors. DON'T WORRY ABOUT ERRORS HERE):** I've included with this assignment two `.csv` files: `Section 1.csv` and `Section 2.csv`. \n",
    "\n",
    "Complete the functions below to use Pandas to read in each csv file and create a DataFrame for each, called `sect1` and `sect2`, respectively. Then, use the command `.drop(columns =[  ])` to get rid of the `'Question Number'` column.\n",
    "\n",
    "Each of the following two functions must return `sect1` and `sect2` respectively, after you've dropped the `'Question Number'` column. \n",
    "\n",
    "**The tests below will generate errors. This is okay, because when you upload it, the missing code necessary for compiling the code correctly will be inserted automatically.**"
   ]
  },
  {
   "cell_type": "code",
   "execution_count": null,
   "metadata": {
    "deletable": false,
    "nbgrader": {
     "cell_type": "code",
     "checksum": "ee274f69106811f9b81f1d2f0d60ac8d",
     "grade": false,
     "grade_id": "cell-03984864268cb86f",
     "locked": false,
     "schema_version": 3,
     "solution": true,
     "task": false
    }
   },
   "outputs": [],
   "source": [
    "import numpy as np\n",
    "import pandas as pd\n",
    "\n",
    "def q1_sect1():\n",
    "    # YOUR CODE HERE\n",
    "    raise NotImplementedError()\n",
    "    return sect1\n",
    "def q1_sect2():\n",
    "    # YOUR CODE HERE\n",
    "    raise NotImplementedError()\n",
    "    return sect2"
   ]
  },
  {
   "cell_type": "code",
   "execution_count": null,
   "metadata": {
    "deletable": false,
    "editable": false,
    "nbgrader": {
     "cell_type": "code",
     "checksum": "0d8c9c5388ebe59d97d406af2aaf0ac6",
     "grade": true,
     "grade_id": "cell-2c2744daa28b0751",
     "locked": true,
     "points": 2,
     "schema_version": 3,
     "solution": false,
     "task": false
    }
   },
   "outputs": [],
   "source": [
    "from pandas.testing import assert_frame_equal\n",
    "assert_frame_equal(q1_sect1(), ans1)\n",
    "assert_frame_equal(q1_sect2(), ans2)"
   ]
  },
  {
   "cell_type": "markdown",
   "metadata": {
    "deletable": false,
    "editable": false,
    "nbgrader": {
     "cell_type": "markdown",
     "checksum": "6efc0f21189d2729a404f1eed2378394",
     "grade": false,
     "grade_id": "cell-0ff3975856a3fc07",
     "locked": true,
     "schema_version": 3,
     "solution": false,
     "task": false
    }
   },
   "source": [
    "**Exercise 2 (2pts):** Use the .concat([ , ]) function to create a new DataFrame `sect` that has the responses to each question from every student, i.e. both section's responses have now been combined into a single dataframe."
   ]
  },
  {
   "cell_type": "code",
   "execution_count": null,
   "metadata": {
    "deletable": false,
    "nbgrader": {
     "cell_type": "code",
     "checksum": "4adac0c125bc13d3fa9ee691866f5cd0",
     "grade": true,
     "grade_id": "cell-45e4213d1a090abb",
     "locked": false,
     "points": 2,
     "schema_version": 3,
     "solution": true,
     "task": false
    }
   },
   "outputs": [],
   "source": [
    "# YOUR CODE HERE\n",
    "raise NotImplementedError()"
   ]
  },
  {
   "cell_type": "markdown",
   "metadata": {
    "deletable": false,
    "editable": false,
    "nbgrader": {
     "cell_type": "markdown",
     "checksum": "0a5a655069e8addf0c7f3b5406d7e3ba",
     "grade": false,
     "grade_id": "cell-1a0471eb3dc3a91f",
     "locked": true,
     "schema_version": 3,
     "solution": false,
     "task": false
    }
   },
   "source": [
    "**Exercise 3 (4 pts in total)** \n",
    "\n",
    "**Part A (2pts):** Compute the mean and standard deviation of the first and second sections using methods built into Pandas."
   ]
  },
  {
   "cell_type": "code",
   "execution_count": null,
   "metadata": {
    "deletable": false,
    "nbgrader": {
     "cell_type": "code",
     "checksum": "f3968378ec79e2bfa1cdd9b54af463d7",
     "grade": true,
     "grade_id": "cell-ed3276913ade3671",
     "locked": false,
     "points": 2,
     "schema_version": 3,
     "solution": true,
     "task": false
    }
   },
   "outputs": [],
   "source": [
    "# YOUR CODE HERE\n",
    "raise NotImplementedError()"
   ]
  },
  {
   "cell_type": "markdown",
   "metadata": {
    "deletable": false,
    "editable": false,
    "nbgrader": {
     "cell_type": "markdown",
     "checksum": "1a0b282248b443d9305835a4c00c6e0c",
     "grade": false,
     "grade_id": "cell-0164462252d1e499",
     "locked": true,
     "schema_version": 3,
     "solution": false,
     "task": false
    }
   },
   "source": [
    "**Part B (2pts):**  Using the interperetations of mean and standard deviation from the lecture, what can you say about how the class feels on average with this information (recall that the scores are out of 5 points)?"
   ]
  },
  {
   "cell_type": "markdown",
   "metadata": {
    "deletable": false,
    "nbgrader": {
     "cell_type": "markdown",
     "checksum": "50c093521cbbdf51a8a47b505c060671",
     "grade": true,
     "grade_id": "cell-1a05f42c479c2696",
     "locked": false,
     "points": 2,
     "schema_version": 3,
     "solution": true,
     "task": false
    }
   },
   "source": [
    "YOUR ANSWER HERE"
   ]
  },
  {
   "cell_type": "markdown",
   "metadata": {
    "deletable": false,
    "editable": false,
    "nbgrader": {
     "cell_type": "markdown",
     "checksum": "7f9c7d239da16b1a2b2a3893db5b4670",
     "grade": false,
     "grade_id": "cell-f9d31d0c28161843",
     "locked": true,
     "schema_version": 3,
     "solution": false,
     "task": false
    }
   },
   "source": [
    "**Exercise 4 (4pts):** Compute the covariance and correlation matrices of the 10 questions for all of the reviews (i.e. the concatenated DataFrames).\n",
    "\n",
    "**Part A (1 pt): Compute Covariance of the `sect` dataFrame**"
   ]
  },
  {
   "cell_type": "code",
   "execution_count": null,
   "metadata": {
    "deletable": false,
    "nbgrader": {
     "cell_type": "code",
     "checksum": "5f7632ff018d0021e749bcd3f40c9610",
     "grade": true,
     "grade_id": "cell-2fb4074e49a66c36",
     "locked": false,
     "points": 1,
     "schema_version": 3,
     "solution": true,
     "task": false
    }
   },
   "outputs": [],
   "source": [
    "# YOUR CODE HERE\n",
    "raise NotImplementedError()"
   ]
  },
  {
   "cell_type": "markdown",
   "metadata": {
    "deletable": false,
    "editable": false,
    "nbgrader": {
     "cell_type": "markdown",
     "checksum": "efc85d3db94b64e3df234508e58b4847",
     "grade": false,
     "grade_id": "cell-9dc7fbd40ab58257",
     "locked": true,
     "schema_version": 3,
     "solution": false,
     "task": false
    }
   },
   "source": [
    "**Part B (1 pt): Compute Correlation of the `sect` dataFrame**"
   ]
  },
  {
   "cell_type": "code",
   "execution_count": null,
   "metadata": {
    "deletable": false,
    "nbgrader": {
     "cell_type": "code",
     "checksum": "e4e0ab2b44920049442bf0dc05e957b3",
     "grade": true,
     "grade_id": "cell-c09624087b951796",
     "locked": false,
     "points": 1,
     "schema_version": 3,
     "solution": true,
     "task": false
    }
   },
   "outputs": [],
   "source": [
    "# YOUR CODE HERE\n",
    "raise NotImplementedError()"
   ]
  },
  {
   "cell_type": "markdown",
   "metadata": {
    "deletable": false,
    "editable": false,
    "nbgrader": {
     "cell_type": "markdown",
     "checksum": "51d0937c6efef8b00f1f900228e40924",
     "grade": false,
     "grade_id": "cell-a0eee557966cbce3",
     "locked": true,
     "schema_version": 3,
     "solution": false,
     "task": false
    }
   },
   "source": [
    "**Part C (2pts):** What two questions seem to be the most related?"
   ]
  },
  {
   "cell_type": "markdown",
   "metadata": {
    "deletable": false,
    "nbgrader": {
     "cell_type": "markdown",
     "checksum": "cb379a8bef2403f9a5b45de2fa919f85",
     "grade": true,
     "grade_id": "cell-053d701325ed9752",
     "locked": false,
     "points": 2,
     "schema_version": 3,
     "solution": true,
     "task": false
    }
   },
   "source": [
    "YOUR ANSWER HERE"
   ]
  },
  {
   "cell_type": "markdown",
   "metadata": {
    "deletable": false,
    "editable": false,
    "nbgrader": {
     "cell_type": "markdown",
     "checksum": "1051db146fb5f90a599f423658bfde74",
     "grade": false,
     "grade_id": "cell-93a44e5b0329e790",
     "locked": true,
     "schema_version": 3,
     "solution": false,
     "task": false
    }
   },
   "source": [
    "**Exercise 5 (4pts):** Using the code given in the lecture, create a linear regression model that relates the two most related questions from the midterm review and plot the points along with the regression line. Also, print the equation of the line that best fits the data."
   ]
  },
  {
   "cell_type": "code",
   "execution_count": null,
   "metadata": {
    "deletable": false,
    "nbgrader": {
     "cell_type": "code",
     "checksum": "052b4e84642207c63f20178e8a2b5f2d",
     "grade": true,
     "grade_id": "cell-cfdde480c6d80ab6",
     "locked": false,
     "points": 4,
     "schema_version": 3,
     "solution": true,
     "task": false
    }
   },
   "outputs": [],
   "source": [
    "import matplotlib.pyplot as plt\n",
    "%matplotlib inline\n",
    "import seaborn as sns; sns.set()\n",
    "import numpy as np\n",
    "from sklearn.linear_model import LinearRegression\n",
    "model = LinearRegression(fit_intercept = True)\n",
    "# YOUR CODE HERE\n",
    "raise NotImplementedError()"
   ]
  },
  {
   "cell_type": "code",
   "execution_count": null,
   "metadata": {},
   "outputs": [],
   "source": []
  }
 ],
 "metadata": {
  "kernelspec": {
   "display_name": "Python 3",
   "language": "python",
   "name": "python3"
  },
  "language_info": {
   "codemirror_mode": {
    "name": "ipython",
    "version": 3
   },
   "file_extension": ".py",
   "mimetype": "text/x-python",
   "name": "python",
   "nbconvert_exporter": "python",
   "pygments_lexer": "ipython3",
   "version": "3.8.11"
  }
 },
 "nbformat": 4,
 "nbformat_minor": 2
}
