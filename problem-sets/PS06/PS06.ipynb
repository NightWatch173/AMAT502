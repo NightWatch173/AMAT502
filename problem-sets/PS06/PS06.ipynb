{
 "cells": [
  {
   "cell_type": "markdown",
   "id": "ef838802",
   "metadata": {
    "deletable": false,
    "editable": false,
    "nbgrader": {
     "cell_type": "markdown",
     "checksum": "e628cc89e2e0b0020d88c4e099de0f80",
     "grade": false,
     "grade_id": "cell-7957423a8200a1c0",
     "locked": true,
     "schema_version": 3,
     "solution": false,
     "task": false
    }
   },
   "source": [
    "# PS06 - Donald Trump's Twitter Data (15 pts)\n",
    "\n",
    "## Due October 31st, 2021\n",
    "\n",
    "![Donald Trump Twitter Data Set](trump_twitter.jpeg)\n",
    "\n",
    "### Topics Covered\n",
    "\n",
    "This problem set is inspired by [Chris Tralie's Famous IDS 301 Python Course at Ursinus College](https://ursinus-ids301-s2020.github.io/CoursePage/Schedule/index.html). **Please do not post solutions on the internet, outside of our UAlbany ITS servers.**\n",
    "\n",
    "In this problem set we practice \"data wrangling\" with a real data set that is a JSON file of Donald Trump's (old) twitter posts. These are loaded into a dictionary using Pickle. \n",
    "\n",
    "We then do some exploratory data analysis on this data set using our skills with NumPy and Python dictionaries."
   ]
  },
  {
   "cell_type": "markdown",
   "id": "9dcd7457",
   "metadata": {
    "deletable": false,
    "editable": false,
    "nbgrader": {
     "cell_type": "markdown",
     "checksum": "35c95303f84effa945fd3f8e3a630d07",
     "grade": false,
     "grade_id": "cell-7fa1289e759a03f0",
     "locked": true,
     "schema_version": 3,
     "solution": false,
     "task": false
    }
   },
   "source": [
    "## Question 1 (4 pts)\n",
    "\n",
    "Load the data file into a python list using pickle. Each element in the list is a dictionary. \n",
    "\n",
    "### Part A (2 pts)\n",
    "Complete the function below that returns the number of tweets in the data set. "
   ]
  },
  {
   "cell_type": "code",
   "execution_count": null,
   "id": "663dcfed",
   "metadata": {
    "deletable": false,
    "nbgrader": {
     "cell_type": "code",
     "checksum": "e6904a23a293d54744685a0674448a3f",
     "grade": false,
     "grade_id": "cell-ef69b2a8c4a5d23a",
     "locked": false,
     "schema_version": 3,
     "solution": true,
     "task": false
    }
   },
   "outputs": [],
   "source": [
    "import pickle\n",
    "\n",
    "tweets = pickle.load(open(\"trumpSinceElection.dat\", \"rb\"))\n",
    "\n",
    "def how_many_tweets(tweets):\n",
    "    # YOUR CODE HERE\n",
    "    raise NotImplementedError()\n",
    "\n",
    "#how_many_tweets(tweets)"
   ]
  },
  {
   "cell_type": "code",
   "execution_count": null,
   "id": "86067143",
   "metadata": {
    "deletable": false,
    "editable": false,
    "nbgrader": {
     "cell_type": "code",
     "checksum": "a0418df2b88b971f0b16bf1d38927711",
     "grade": true,
     "grade_id": "cell-264d66f8579ef60d",
     "locked": true,
     "points": 2,
     "schema_version": 3,
     "solution": false,
     "task": false
    }
   },
   "outputs": [],
   "source": [
    "assert how_many_tweets(tweets) > 100\n",
    "assert how_many_tweets(tweets) < 100000"
   ]
  },
  {
   "cell_type": "markdown",
   "id": "ae34c2d9",
   "metadata": {
    "deletable": false,
    "editable": false,
    "nbgrader": {
     "cell_type": "markdown",
     "checksum": "342909b0c01d18a69f97ac3ac784d23e",
     "grade": false,
     "grade_id": "cell-06414a9e594fc199",
     "locked": true,
     "schema_version": 3,
     "solution": false,
     "task": false
    }
   },
   "source": [
    "### Part B (2 pts)\n",
    "\n",
    "Complete the function below that returns the text of the first tweet."
   ]
  },
  {
   "cell_type": "code",
   "execution_count": null,
   "id": "01f89111",
   "metadata": {
    "deletable": false,
    "nbgrader": {
     "cell_type": "code",
     "checksum": "65c155b08992a3b95eea43d2971680c1",
     "grade": false,
     "grade_id": "cell-03f20d8e7fddf805",
     "locked": false,
     "schema_version": 3,
     "solution": true,
     "task": false
    }
   },
   "outputs": [],
   "source": [
    "def first_tweet(tweets):\n",
    "    # YOUR CODE HERE\n",
    "    raise NotImplementedError()\n",
    "\n",
    "#first_tweet(tweets)"
   ]
  },
  {
   "cell_type": "code",
   "execution_count": null,
   "id": "f4f1adae",
   "metadata": {
    "deletable": false,
    "editable": false,
    "nbgrader": {
     "cell_type": "code",
     "checksum": "dafcffc474811b3e2b8f9d99149de62c",
     "grade": true,
     "grade_id": "cell-37c5293eb05ca6e4",
     "locked": true,
     "points": 2,
     "schema_version": 3,
     "solution": false,
     "task": false
    }
   },
   "outputs": [],
   "source": [
    "assert first_tweet(tweets) != 'Four score and seven years ago our fathers brought forth, upon this continent, a new nation, conceived in liberty, and dedicated to the proposition that all men are created equal.'"
   ]
  },
  {
   "cell_type": "markdown",
   "id": "75d1c53c",
   "metadata": {
    "deletable": false,
    "editable": false,
    "nbgrader": {
     "cell_type": "markdown",
     "checksum": "fb43a189a7c8662419e43a265bd18a3f",
     "grade": false,
     "grade_id": "cell-3e3d7502ee2d40d6",
     "locked": true,
     "schema_version": 3,
     "solution": false,
     "task": false
    }
   },
   "source": [
    "## Question 2 (4 pts)\n",
    "\n",
    "In this question we're going to create two numpy arrays from the `tweets` list, one that contains the **retweet count**, and one that contains the **favorite count**, i.e. the number of \"likes\".  Then we're going to use NumPy's `argmax` function to give you the index of the most retweeted tweet and the most favorited tweet.\n",
    "\n",
    "We will then use this to complete the two functions below.\n",
    "\n",
    "### Part A (2pts)\n",
    "\n",
    "Write a function that returns Donald Trump's most retweeted tweet."
   ]
  },
  {
   "cell_type": "code",
   "execution_count": null,
   "id": "47b4fd33",
   "metadata": {
    "deletable": false,
    "nbgrader": {
     "cell_type": "code",
     "checksum": "e126cad46da68eb28c71d3314c399837",
     "grade": false,
     "grade_id": "cell-7394b51eca519f0d",
     "locked": false,
     "schema_version": 3,
     "solution": true,
     "task": false
    }
   },
   "outputs": [],
   "source": [
    "import numpy as np\n",
    "\n",
    "def most_retweeted(tweets):\n",
    "    retweet_list = np.zeros(len(tweets))\n",
    "    # YOUR CODE HERE\n",
    "    raise NotImplementedError()\n",
    "#most_retweeted(tweets)"
   ]
  },
  {
   "cell_type": "code",
   "execution_count": null,
   "id": "00dfb282",
   "metadata": {
    "deletable": false,
    "editable": false,
    "nbgrader": {
     "cell_type": "code",
     "checksum": "4ff88755c88de32fd0d4ce0dedd44f09",
     "grade": true,
     "grade_id": "cell-e9f4c42d3c060a9b",
     "locked": true,
     "points": 2,
     "schema_version": 3,
     "solution": false,
     "task": false
    }
   },
   "outputs": [],
   "source": [
    "assert most_retweeted(tweets) != \"I love the New York Times.\""
   ]
  },
  {
   "cell_type": "markdown",
   "id": "4fd84709",
   "metadata": {
    "deletable": false,
    "editable": false,
    "nbgrader": {
     "cell_type": "markdown",
     "checksum": "4e0b333485e45692da23a1512d838525",
     "grade": false,
     "grade_id": "cell-66c1b9b89b0669c7",
     "locked": true,
     "schema_version": 3,
     "solution": false,
     "task": false
    }
   },
   "source": [
    "### Part B (2pts)\n",
    "\n",
    "Write a function that returns Donald Trump's most favorited tweet."
   ]
  },
  {
   "cell_type": "code",
   "execution_count": null,
   "id": "863a4030",
   "metadata": {
    "deletable": false,
    "nbgrader": {
     "cell_type": "code",
     "checksum": "0302dfb5fe688418180507225aefbb91",
     "grade": false,
     "grade_id": "cell-f70fc956af124c92",
     "locked": false,
     "schema_version": 3,
     "solution": true,
     "task": false
    }
   },
   "outputs": [],
   "source": [
    "def most_favorited(tweets):\n",
    "    favorite_list = np.zeros(len(tweets))\n",
    "    # YOUR CODE HERE\n",
    "    raise NotImplementedError()\n",
    "most_favorited(tweets)"
   ]
  },
  {
   "cell_type": "code",
   "execution_count": null,
   "id": "09665097",
   "metadata": {
    "deletable": false,
    "editable": false,
    "nbgrader": {
     "cell_type": "code",
     "checksum": "46685d4594b1b86b8ea089d83c0769e6",
     "grade": true,
     "grade_id": "cell-a956b6945304c519",
     "locked": true,
     "points": 2,
     "schema_version": 3,
     "solution": false,
     "task": false
    }
   },
   "outputs": [],
   "source": [
    "assert most_favorited(tweets) != \"I know that I am intelligent, because I know that I know nothing.\"\n",
    "assert most_favorited(tweets) != \"Wisdom begins in wonder.\"\n",
    "assert most_favorited(tweets) != \"Understanding a question is half an answer.\""
   ]
  },
  {
   "cell_type": "markdown",
   "id": "df3a332f",
   "metadata": {
    "deletable": false,
    "editable": false,
    "nbgrader": {
     "cell_type": "markdown",
     "checksum": "38d64f39ad37fe1062f642b8f16af29a",
     "grade": false,
     "grade_id": "cell-aeabe500a6df64e8",
     "locked": true,
     "schema_version": 3,
     "solution": false,
     "task": false
    }
   },
   "source": [
    "## Question 3 (4 pts)\n",
    "\n",
    "Finish the function `find_kth_popular_tweet` that takes in the dictionary containing the tweets and an integer $k$ and returns the *text* of the $k$-th most \"popular\" tweet. \"Popular\" having two different meanings in each of the following parts.\n",
    "\n",
    "**Hint:** You might want to use NumPy's `argsort` function.\n",
    "\n",
    "Notice that the code below uses the `enumerate` function, which we have not gone over in class. You can learn about it [here.](https://www.geeksforgeeks.org/enumerate-in-python/)\n",
    "\n",
    "### Part A (2 pts)\n",
    "\n",
    "Assume here that \"popular\" means most retweeted tweet."
   ]
  },
  {
   "cell_type": "code",
   "execution_count": null,
   "id": "014f3467",
   "metadata": {
    "deletable": false,
    "nbgrader": {
     "cell_type": "code",
     "checksum": "3e91ebc9e07724828b49231cdeb3be6e",
     "grade": false,
     "grade_id": "cell-aecbcdb7fdeec21b",
     "locked": false,
     "schema_version": 3,
     "solution": true,
     "task": false
    }
   },
   "outputs": [],
   "source": [
    "import numpy as np\n",
    "\n",
    "def find_kth_retweeted(tweets, k):\n",
    "    \n",
    "    retweet_list = np.zeros(len(tweets))\n",
    "    \n",
    "    for index, tweet in enumerate(tweets):\n",
    "        retweet_list[index] = tweet['retweet_count']\n",
    "    # YOUR CODE HERE\n",
    "    raise NotImplementedError()"
   ]
  },
  {
   "cell_type": "code",
   "execution_count": null,
   "id": "6ea71bbb",
   "metadata": {
    "deletable": false,
    "editable": false,
    "nbgrader": {
     "cell_type": "code",
     "checksum": "7f9229f0bc85764276959a17324b6339",
     "grade": true,
     "grade_id": "cell-558505b8b816a635",
     "locked": true,
     "points": 2,
     "schema_version": 3,
     "solution": false,
     "task": false
    }
   },
   "outputs": [],
   "source": [
    "assert find_kth_retweeted(tweets, 2) == 'TODAY WE MAKE AMERICA GREAT AGAIN!'\n",
    "assert find_kth_retweeted(tweets, 3) == 'Why would Kim Jong-un insult me by calling me \"old,\" when I would NEVER call him \"short and fat?\" Oh well, I try so hard to be his friend - and maybe someday that will happen!'\n",
    "assert find_kth_retweeted(tweets, 5) == 'Such a beautiful and important evening! The forgotten man and woman will never be forgotten again. We will all come together as never before'"
   ]
  },
  {
   "cell_type": "markdown",
   "id": "38c6612e",
   "metadata": {
    "deletable": false,
    "editable": false,
    "nbgrader": {
     "cell_type": "markdown",
     "checksum": "1f42654d5aad020c90ce6bc7c6875cb2",
     "grade": false,
     "grade_id": "cell-65964c9141973f0d",
     "locked": true,
     "schema_version": 3,
     "solution": false,
     "task": false
    }
   },
   "source": [
    "### Part B (2 pts)\n",
    "\n",
    "Assume here that \"popular\" means most favorited tweet."
   ]
  },
  {
   "cell_type": "code",
   "execution_count": null,
   "id": "82d22a25",
   "metadata": {
    "deletable": false,
    "nbgrader": {
     "cell_type": "code",
     "checksum": "40ae779d3faceb70d36c4113bec3e292",
     "grade": false,
     "grade_id": "cell-54232c052dd26afa",
     "locked": false,
     "schema_version": 3,
     "solution": true,
     "task": false
    }
   },
   "outputs": [],
   "source": [
    "import numpy as np\n",
    "\n",
    "def find_kth_favorited(tweets, k):\n",
    "    \n",
    "    favorite_list = np.zeros(len(tweets))\n",
    "    # YOUR CODE HERE\n",
    "    raise NotImplementedError()"
   ]
  },
  {
   "cell_type": "code",
   "execution_count": null,
   "id": "f835cef8",
   "metadata": {
    "deletable": false,
    "editable": false,
    "nbgrader": {
     "cell_type": "code",
     "checksum": "22844bf6415caf8c0676d4192b9af9b6",
     "grade": true,
     "grade_id": "cell-0c8f068049ab80a4",
     "locked": true,
     "points": 2,
     "schema_version": 3,
     "solution": false,
     "task": false
    }
   },
   "outputs": [],
   "source": [
    "assert find_kth_favorited(tweets,4) == 'MERRY CHRISTMAS!'\n",
    "assert find_kth_favorited(tweets,10) == 'THE UNITED STATES LOVES ITALY! https://t.co/DESUJ4QM41'\n",
    "assert find_kth_favorited(tweets,13) == 'HAPPY NEW YEAR!'"
   ]
  },
  {
   "cell_type": "markdown",
   "id": "cfcd1375",
   "metadata": {
    "deletable": false,
    "editable": false,
    "nbgrader": {
     "cell_type": "markdown",
     "checksum": "8be5c59a8d823e1e97e6ec26184c2008",
     "grade": false,
     "grade_id": "cell-49505951fd67332b",
     "locked": true,
     "schema_version": 3,
     "solution": false,
     "task": false
    }
   },
   "source": [
    "## Question 4 (3 pts, autograded)\n",
    "\n",
    "Below I've written a function `get_words` that extracts out a dictionary of words coming from Donald Trump's twitter data. \n",
    "\n",
    "\n",
    "\n",
    "### Part A\n",
    "\n",
    "Write a second function `get_top_k_words` that takes in the dictionary containing the tweets and an integer $k$ and returns the $k$ most used words, as a listed sorted in descending order."
   ]
  },
  {
   "cell_type": "code",
   "execution_count": null,
   "id": "4ce57e93",
   "metadata": {
    "deletable": false,
    "nbgrader": {
     "cell_type": "code",
     "checksum": "e08cdefb10f9a7e6c406264322925171",
     "grade": false,
     "grade_id": "cell-b7dfc4b4d4f60add",
     "locked": false,
     "schema_version": 3,
     "solution": true,
     "task": false
    }
   },
   "outputs": [],
   "source": [
    "def get_words(tweets):\n",
    "    words = {}\n",
    "\n",
    "    for index, tweet in enumerate(tweets):\n",
    "        for word in tweet['text'].split(' '):\n",
    "            if word in words:\n",
    "                words[word] += 1\n",
    "            else:\n",
    "                words[word] = 1\n",
    "\n",
    "    return words\n",
    "\n",
    "def get_top_k_words(tweets,k):\n",
    "    # YOUR CODE HERE\n",
    "    raise NotImplementedError()\n"
   ]
  },
  {
   "cell_type": "code",
   "execution_count": null,
   "id": "4f0a8219",
   "metadata": {
    "deletable": false,
    "editable": false,
    "nbgrader": {
     "cell_type": "code",
     "checksum": "2256e92efabf2fe2636de511b8085ba1",
     "grade": true,
     "grade_id": "cell-36d27244d3e96f68",
     "locked": true,
     "points": 2,
     "schema_version": 3,
     "solution": false,
     "task": false
    }
   },
   "outputs": [],
   "source": [
    "assert get_top_k_words(tweets,10) == ['the', 'to', 'and', 'of', 'a', 'is', 'in', 'RT', 'for', 'on']"
   ]
  },
  {
   "cell_type": "markdown",
   "id": "fe1d3a3d",
   "metadata": {
    "deletable": false,
    "editable": false,
    "nbgrader": {
     "cell_type": "markdown",
     "checksum": "ffa5798b199eb56d97c4a9c02342c354",
     "grade": false,
     "grade_id": "cell-9357aeefd41e1206",
     "locked": true,
     "schema_version": 3,
     "solution": false,
     "task": false
    }
   },
   "source": [
    "### Part B\n",
    "\n",
    "**What is the $46th$ most commonly used word by Donald Trump, according to the above data set?**"
   ]
  },
  {
   "cell_type": "markdown",
   "id": "29ce7f6d",
   "metadata": {
    "deletable": false,
    "nbgrader": {
     "cell_type": "markdown",
     "checksum": "0b8f4169e04afa4d7acf72e6576edb78",
     "grade": true,
     "grade_id": "cell-115886748e228a57",
     "locked": false,
     "points": 1,
     "schema_version": 3,
     "solution": true,
     "task": false
    }
   },
   "source": [
    "YOUR ANSWER HERE"
   ]
  }
 ],
 "metadata": {
  "kernelspec": {
   "display_name": "Python 3",
   "language": "python",
   "name": "python3"
  },
  "language_info": {
   "codemirror_mode": {
    "name": "ipython",
    "version": 3
   },
   "file_extension": ".py",
   "mimetype": "text/x-python",
   "name": "python",
   "nbconvert_exporter": "python",
   "pygments_lexer": "ipython3",
   "version": "3.8.11"
  }
 },
 "nbformat": 4,
 "nbformat_minor": 5
}
