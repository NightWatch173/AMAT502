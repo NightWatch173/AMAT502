{
 "cells": [
  {
   "cell_type": "markdown",
   "metadata": {
    "deletable": false,
    "editable": false,
    "nbgrader": {
     "cell_type": "markdown",
     "checksum": "807a2a81d3b51dfa8fde4b2b4a7c83df",
     "grade": false,
     "grade_id": "cell-88a29ed4f0290d98",
     "locked": true,
     "schema_version": 3,
     "solution": false,
     "task": false
    }
   },
   "source": [
    "# Project: Grading with K-Means (30 pts)\n",
    "## Due Sunday November 14th, 2021\n",
    "\n",
    "In this project we consider a grading data set that I obtained from a colleague at Duke University. It contains 95 students grades in both raw numerical form and as a letter grade with $\\pm$ decorations, e.g. $B+$ or $A-$.\n",
    "\n",
    "In essence, grading is a partitioning task. At the end of the semester we must partition students into As, Bs, Cs, Ds, and Fs. Distinguishing into plus or minus grades is a further refinement of this partition.\n",
    "\n",
    "To make grading less adhoc, let's use K-means clustering for K=5 (and later for K=13) to automatically partition our students into clusters.\n",
    "\n",
    "However, the fact that data is already labeled for us by a professor, we can compute how our partitioning compares with the professor's, as well as compute some other signatures such as purity."
   ]
  },
  {
   "cell_type": "markdown",
   "metadata": {
    "deletable": false,
    "editable": false,
    "nbgrader": {
     "cell_type": "markdown",
     "checksum": "46ebb1a03c4fa19a19693c2aa23422b7",
     "grade": false,
     "grade_id": "cell-0fe8dcf418681e4c",
     "locked": true,
     "schema_version": 3,
     "solution": false,
     "task": false
    }
   },
   "source": [
    "### Question 0: Loading the Data"
   ]
  },
  {
   "cell_type": "code",
   "execution_count": null,
   "metadata": {
    "deletable": false,
    "editable": false,
    "nbgrader": {
     "cell_type": "code",
     "checksum": "dd5a4536b61a1513b241322a23ee67a2",
     "grade": false,
     "grade_id": "cell-4e046501c513f21e",
     "locked": true,
     "schema_version": 3,
     "solution": false,
     "task": false
    }
   },
   "outputs": [],
   "source": [
    "import numpy as np\n",
    "import matplotlib.pyplot as plt\n",
    "import pandas as pd\n",
    "import warnings\n",
    "\n",
    "warnings.filterwarnings(\"ignore\")\n",
    "\n",
    "# Read dataset to pandas dataframe\n",
    "data = pd.read_csv('grades.csv')\n",
    "\n",
    "print(data.shape)\n",
    "data[60:95]"
   ]
  },
  {
   "cell_type": "markdown",
   "metadata": {
    "deletable": false,
    "editable": false,
    "nbgrader": {
     "cell_type": "markdown",
     "checksum": "c325a86fc569040d8da4400ddfd51ab3",
     "grade": false,
     "grade_id": "cell-190f856708d89a81",
     "locked": true,
     "schema_version": 3,
     "solution": false,
     "task": false
    }
   },
   "source": [
    "### Question 1 (1 pt)\n",
    "\n",
    "Import the grades.csv file from blackboard as a Pandas DataFrame. Create another DataFrame that includes only the 'raw grade' and 'raw letter'. \n",
    "\n",
    "The 'raw grade' column includes numerical scores between 56.1 and 99.6. The 'raw letter' column should contain letter grades between $F$ and $A+$. A plus or minus (for some reason a $B-$ is represented as a $B=$ in this data set) is called a \"decoration\" of the letter grade."
   ]
  },
  {
   "cell_type": "code",
   "execution_count": null,
   "metadata": {
    "deletable": false,
    "nbgrader": {
     "cell_type": "code",
     "checksum": "163420b119e597caa17e75d08c7206f0",
     "grade": true,
     "grade_id": "cell-63e7978f11a77644",
     "locked": false,
     "points": 1,
     "schema_version": 3,
     "solution": true,
     "task": false
    }
   },
   "outputs": [],
   "source": [
    "# YOUR CODE HERE\n",
    "raise NotImplementedError()"
   ]
  },
  {
   "cell_type": "code",
   "execution_count": null,
   "metadata": {},
   "outputs": [],
   "source": []
  },
  {
   "cell_type": "markdown",
   "metadata": {
    "deletable": false,
    "editable": false,
    "nbgrader": {
     "cell_type": "markdown",
     "checksum": "5a42f8542c5129ed763faffd718a0a68",
     "grade": false,
     "grade_id": "cell-37854d7e9ef45817",
     "locked": true,
     "schema_version": 3,
     "solution": false,
     "task": false
    }
   },
   "source": [
    "### Question 2 (3 pts)\n",
    "\n",
    "Run the $K$-means clustering algorithm with $K=5$. Here $K=5$ corresponds to the 5 letter grades $A, B, C, D$ and $F$. In this question, all $\\pm$ decorations are ignored, so $A$ and an $A-$ are regarded as the same.\n",
    "\n",
    "***Make sure to set random_state=0 when you run KMeans!***"
   ]
  },
  {
   "cell_type": "code",
   "execution_count": null,
   "metadata": {
    "deletable": false,
    "nbgrader": {
     "cell_type": "code",
     "checksum": "438118bcb00251c2838e32a1be033c73",
     "grade": true,
     "grade_id": "cell-cd758aa223de2dfc",
     "locked": false,
     "points": 3,
     "schema_version": 3,
     "solution": true,
     "task": false
    }
   },
   "outputs": [],
   "source": [
    "# YOUR CODE HERE\n",
    "raise NotImplementedError()"
   ]
  },
  {
   "cell_type": "markdown",
   "metadata": {
    "deletable": false,
    "editable": false,
    "nbgrader": {
     "cell_type": "markdown",
     "checksum": "07342a50559808f2fcd77a32a76776f4",
     "grade": false,
     "grade_id": "cell-f190b3be8e6a1cb0",
     "locked": true,
     "schema_version": 3,
     "solution": false,
     "task": false
    }
   },
   "source": [
    "### Question 3 (5 pts)\n",
    "\n",
    "Create a 1D scatter plot where the the points are colored by the prediction value given by the algorithm. Set the y value of your points in your scatter plot to correspond to the undecorated letter grade, measured as a GPA, i.e. A is a 4.0, B is a 3.0, and so on."
   ]
  },
  {
   "cell_type": "code",
   "execution_count": null,
   "metadata": {
    "deletable": false,
    "nbgrader": {
     "cell_type": "code",
     "checksum": "60e87ea5cc54207559d02a9ec7e8183e",
     "grade": true,
     "grade_id": "cell-5ade23d34729ead6",
     "locked": false,
     "points": 5,
     "schema_version": 3,
     "solution": true,
     "task": false
    }
   },
   "outputs": [],
   "source": [
    "# YOUR CODE HERE\n",
    "raise NotImplementedError()"
   ]
  },
  {
   "cell_type": "markdown",
   "metadata": {
    "deletable": false,
    "editable": false,
    "nbgrader": {
     "cell_type": "markdown",
     "checksum": "fddb99c59c651ad0328bb3d20502e554",
     "grade": false,
     "grade_id": "cell-f39fdec293d71182",
     "locked": true,
     "schema_version": 3,
     "solution": false,
     "task": false
    }
   },
   "source": [
    "### Question 4 (2 pts)\n",
    "\n",
    "Create (or append) a new Pandas DataFrame with ’raw grade’, ’raw letter’ and a new column ’K-Means Letter’ that records the label number predicted by the K-means algorithm."
   ]
  },
  {
   "cell_type": "code",
   "execution_count": null,
   "metadata": {
    "deletable": false,
    "nbgrader": {
     "cell_type": "code",
     "checksum": "0469f40aa9cb3328a1b7bfdb0ed0a596",
     "grade": true,
     "grade_id": "cell-a974ee09f4c16a2e",
     "locked": false,
     "points": 2,
     "schema_version": 3,
     "solution": true,
     "task": false
    }
   },
   "outputs": [],
   "source": [
    "# YOUR CODE HERE\n",
    "raise NotImplementedError()"
   ]
  },
  {
   "cell_type": "markdown",
   "metadata": {
    "deletable": false,
    "editable": false,
    "nbgrader": {
     "cell_type": "markdown",
     "checksum": "d3f884a4d9ac04e40c416b5fb49f5c58",
     "grade": false,
     "grade_id": "cell-808651a3a118af3b",
     "locked": true,
     "schema_version": 3,
     "solution": false,
     "task": false
    }
   },
   "source": [
    "### Question 5 (5 pts)\n",
    "\n",
    "Notice that the K-means algorithm uses numbers $\\{0,1, \\ldots, K-1\\}$ to label clusters, where as professors use grades $\\{A,B,C,D,F\\}$ to label clusters. For example in my solution to this project, the K-means label `0` *roughly* corresponded to the grade letter $C$ (and $C+$) and the K-means label 4 *roughly* corresponded to the letter grade $B$ (and $B-$).\n",
    "\n",
    "![K-Means Prediction](Grade-k-means-predict.png)\n",
    "\n",
    "Write a small program that returns the percentage of agreement between the professor's assigned letter grade (undecorated, so $A$ is the same as $A-$) and your K-means predictions.\n",
    "\n",
    "For example in the example screenshot, as least two $B-$'s were `missclassified` as $C$'s, so our rate of agreement should be less than 98\\%.\n",
    "\n",
    "**Compute percentage of agreement between k-means with K=5 and the professor's grading schema.**"
   ]
  },
  {
   "cell_type": "code",
   "execution_count": null,
   "metadata": {
    "deletable": false,
    "nbgrader": {
     "cell_type": "code",
     "checksum": "b2c9a77c6f417c6bb670c12d2185cf15",
     "grade": true,
     "grade_id": "cell-d1a1fe4a8c8cc230",
     "locked": false,
     "points": 5,
     "schema_version": 3,
     "solution": true,
     "task": false
    }
   },
   "outputs": [],
   "source": [
    "# YOUR CODE HERE\n",
    "raise NotImplementedError()"
   ]
  },
  {
   "cell_type": "markdown",
   "metadata": {
    "deletable": false,
    "editable": false,
    "nbgrader": {
     "cell_type": "markdown",
     "checksum": "513a1211053d7c4665d923b4e14b02be",
     "grade": false,
     "grade_id": "cell-87d2bb6f66fb0715",
     "locked": true,
     "schema_version": 3,
     "solution": false,
     "task": false
    }
   },
   "source": [
    "### Question 6 (3 pts each part)\n",
    "\n",
    "Below is some code to compute the purity of a clustering schema for 5 clusters. We introduced this in a our second lecture on clustering."
   ]
  },
  {
   "cell_type": "code",
   "execution_count": null,
   "metadata": {
    "deletable": false,
    "editable": false,
    "nbgrader": {
     "cell_type": "code",
     "checksum": "b2a0d52d02be0bd96f8a7ec6d8facc75",
     "grade": false,
     "grade_id": "cell-69b06af5e1c816c7",
     "locked": true,
     "schema_version": 3,
     "solution": false,
     "task": false
    }
   },
   "outputs": [],
   "source": [
    "## Provided Code\n",
    "def clusters_stats(predict, y, num_clusters=5):\n",
    "    stats = np.zeros((num_clusters,3))\n",
    "    for i in range(num_clusters):\n",
    "        indices = np.where(predict == i)\n",
    "        cluster = y[indices]\n",
    "        stats[i,:] = clust_stats(cluster, num_clusters)\n",
    "    return stats\n",
    "        \n",
    "def clust_stats(cluster, num_clusters=5):\n",
    "    class_freq = np.zeros(num_clusters)\n",
    "    for i in range(num_clusters):\n",
    "        class_freq[i] = np.count_nonzero(cluster == i)\n",
    "    most_freq = np.argmax(class_freq)\n",
    "    n_majority = np.max(class_freq)\n",
    "    n_all = np.sum(class_freq)\n",
    "    return (n_majority, n_all, most_freq)\n",
    "    \n",
    "def clusters_purity(clusters_stats, num_clusters=5):\n",
    "    majority_sum  = clusters_stats[:,0].sum()\n",
    "    n = clusters_stats[:,1].sum()\n",
    "    return majority_sum / n"
   ]
  },
  {
   "cell_type": "markdown",
   "metadata": {
    "deletable": false,
    "editable": false,
    "nbgrader": {
     "cell_type": "markdown",
     "checksum": "23b9de8f461d9031c73d9825b68d4625",
     "grade": false,
     "grade_id": "cell-d9c9673955aa7d93",
     "locked": true,
     "schema_version": 3,
     "solution": false,
     "task": false
    }
   },
   "source": [
    "### Question 6 Part A (3 pts)\n",
    "\n",
    "Compute the overall purity of your k-means clustering schema using the code above."
   ]
  },
  {
   "cell_type": "code",
   "execution_count": null,
   "metadata": {
    "deletable": false,
    "nbgrader": {
     "cell_type": "code",
     "checksum": "6b76baf9c597656b4308d7dce8f8d8f4",
     "grade": true,
     "grade_id": "cell-e2d9342db1ad3730",
     "locked": false,
     "points": 3,
     "schema_version": 3,
     "solution": true,
     "task": false
    }
   },
   "outputs": [],
   "source": [
    "# YOUR CODE HERE\n",
    "raise NotImplementedError()"
   ]
  },
  {
   "cell_type": "markdown",
   "metadata": {
    "deletable": false,
    "editable": false,
    "nbgrader": {
     "cell_type": "markdown",
     "checksum": "4a5833e003b30e85f48e81f61e3dca2a",
     "grade": false,
     "grade_id": "cell-b240f66c8b1f564d",
     "locked": true,
     "schema_version": 3,
     "solution": false,
     "task": false
    }
   },
   "source": [
    "### Question 6 Part B (3pts)\n",
    "\n",
    "Using the markdown cell below, calculate the purity of each predicted k-means cluster and verify the above calculation of the overall purity. For example, with random_state=0, k-means cluster label 3 corresponds entirely to As so it has 100% purity. On the other hand, cluster label 1 has a mix of As and Bs and should have a cluster purity of roughly 70%."
   ]
  },
  {
   "cell_type": "markdown",
   "metadata": {
    "deletable": false,
    "nbgrader": {
     "cell_type": "markdown",
     "checksum": "997bd182b5cdf40a31510fcde196d59a",
     "grade": true,
     "grade_id": "cell-fad555ee825f05f5",
     "locked": false,
     "points": 3,
     "schema_version": 3,
     "solution": true,
     "task": false
    }
   },
   "source": [
    "YOUR ANSWER HERE"
   ]
  },
  {
   "cell_type": "markdown",
   "metadata": {
    "deletable": false,
    "editable": false,
    "nbgrader": {
     "cell_type": "markdown",
     "checksum": "9335bd6be5f5429d5c795af7b36571ec",
     "grade": false,
     "grade_id": "cell-3fa33fc10dd49c88",
     "locked": true,
     "schema_version": 3,
     "solution": false,
     "task": false
    }
   },
   "source": [
    "## Question 7 (8 pts as distributed below)\n",
    "\n",
    "Repeat Questions 2 through 6 with $K=13$, which corresponds to the 13 possible *decorated* letter grades $\\{A+,A,A-,B+,B,B-,C+,C,C-,D+,D,D-,F\\}$. \n",
    "\n",
    "This means:\n",
    "\n",
    "- Run $K=13$-means clustering\n",
    "- Create a scatter plot where the the points are colored by the 13 possible prediction values given by the algorithm, with weighted GPA as the y-coordinate.\n",
    "- Create a new Pandas DataFrame with 'raw grade', 'raw letter' and a new column 'K-Means Letter' that records the label number predicted by the K-means algorithm.\n",
    "- Compute the percentage of agreement between the professor's *decorated* letter grades and the determination by K-means, for $K=13$.\n",
    "- Compute the purity for each of the 13 predicted clusters as well as the overall purity.\n"
   ]
  },
  {
   "cell_type": "markdown",
   "metadata": {
    "deletable": false,
    "editable": false,
    "nbgrader": {
     "cell_type": "markdown",
     "checksum": "d0d61d47a57f33741a267f1ef37323b2",
     "grade": false,
     "grade_id": "cell-e7794bd35e6277c7",
     "locked": true,
     "schema_version": 3,
     "solution": false,
     "task": false
    }
   },
   "source": [
    "### Question 7.2: Run k=13 means (1 pt)\n",
    "\n",
    "Make sure to use `random_state=0`"
   ]
  },
  {
   "cell_type": "code",
   "execution_count": null,
   "metadata": {
    "deletable": false,
    "nbgrader": {
     "cell_type": "code",
     "checksum": "d4d0e6cdd2881bce5effefd1e4e31cf9",
     "grade": true,
     "grade_id": "cell-20c642d5a808bdeb",
     "locked": false,
     "points": 1,
     "schema_version": 3,
     "solution": true,
     "task": false
    }
   },
   "outputs": [],
   "source": [
    "# YOUR CODE HERE\n",
    "raise NotImplementedError()"
   ]
  },
  {
   "cell_type": "markdown",
   "metadata": {
    "deletable": false,
    "editable": false,
    "nbgrader": {
     "cell_type": "markdown",
     "checksum": "81fb875194ca7088b9309d16b65ff7f7",
     "grade": false,
     "grade_id": "cell-510d64d5b8b8dcc1",
     "locked": true,
     "schema_version": 3,
     "solution": false,
     "task": false
    }
   },
   "source": [
    "### Question 7.3 Plot (2pts)\n",
    "\n",
    "Separate out the y values based on the letter grade by using weighted GPA or 0-12."
   ]
  },
  {
   "cell_type": "code",
   "execution_count": null,
   "metadata": {
    "deletable": false,
    "nbgrader": {
     "cell_type": "code",
     "checksum": "51dae22e179ee7168d9010fdb3dc7f1d",
     "grade": true,
     "grade_id": "cell-f6970e7729317372",
     "locked": false,
     "points": 2,
     "schema_version": 3,
     "solution": true,
     "task": false
    }
   },
   "outputs": [],
   "source": [
    "# YOUR CODE HERE\n",
    "raise NotImplementedError()"
   ]
  },
  {
   "cell_type": "markdown",
   "metadata": {
    "deletable": false,
    "editable": false,
    "nbgrader": {
     "cell_type": "markdown",
     "checksum": "c4d5264f7f5c2e0dd6bcdaa5c86c12d3",
     "grade": false,
     "grade_id": "cell-69b2c1f9df9fb443",
     "locked": true,
     "schema_version": 3,
     "solution": false,
     "task": false
    }
   },
   "source": [
    "### Question 7.4 (1 pt)\n",
    "\n",
    "Append or create data frame that has the k means predicted letter score."
   ]
  },
  {
   "cell_type": "code",
   "execution_count": null,
   "metadata": {
    "deletable": false,
    "nbgrader": {
     "cell_type": "code",
     "checksum": "cb66db619008c686e218f18b2bb4f65d",
     "grade": true,
     "grade_id": "cell-39e32471cd194e7d",
     "locked": false,
     "points": 1,
     "schema_version": 3,
     "solution": true,
     "task": false
    }
   },
   "outputs": [],
   "source": [
    "# YOUR CODE HERE\n",
    "raise NotImplementedError()"
   ]
  },
  {
   "cell_type": "markdown",
   "metadata": {
    "deletable": false,
    "editable": false,
    "nbgrader": {
     "cell_type": "markdown",
     "checksum": "0f0c4f92d8779aa931262b53e43081ed",
     "grade": false,
     "grade_id": "cell-53d17ef3c45008f6",
     "locked": true,
     "schema_version": 3,
     "solution": false,
     "task": false
    }
   },
   "source": [
    "### Question 7.5 (2 pts)\n",
    "\n",
    "Compute agreement percent"
   ]
  },
  {
   "cell_type": "code",
   "execution_count": null,
   "metadata": {
    "deletable": false,
    "nbgrader": {
     "cell_type": "code",
     "checksum": "bb397b1c5b332fa50644864c742c2024",
     "grade": true,
     "grade_id": "cell-198ce5c1b6b0b9b1",
     "locked": false,
     "points": 2,
     "schema_version": 3,
     "solution": true,
     "task": false
    }
   },
   "outputs": [],
   "source": [
    "# YOUR CODE HERE\n",
    "raise NotImplementedError()"
   ]
  },
  {
   "cell_type": "markdown",
   "metadata": {
    "deletable": false,
    "editable": false,
    "nbgrader": {
     "cell_type": "markdown",
     "checksum": "df83605b31ecf978ce0ca037b02a2a19",
     "grade": false,
     "grade_id": "cell-ef1d34d2df950b2f",
     "locked": true,
     "schema_version": 3,
     "solution": false,
     "task": false
    }
   },
   "source": [
    "### Question 7.6A (1pt)\n",
    "\n",
    "Compute overall purity score using functions above."
   ]
  },
  {
   "cell_type": "code",
   "execution_count": null,
   "metadata": {
    "deletable": false,
    "nbgrader": {
     "cell_type": "code",
     "checksum": "9478af11832ab9311dec001c5e9e1e2f",
     "grade": true,
     "grade_id": "cell-5c477d0d0e9aca05",
     "locked": false,
     "points": 1,
     "schema_version": 3,
     "solution": true,
     "task": false
    }
   },
   "outputs": [],
   "source": [
    "# YOUR CODE HERE\n",
    "raise NotImplementedError()"
   ]
  },
  {
   "cell_type": "markdown",
   "metadata": {
    "deletable": false,
    "editable": false,
    "nbgrader": {
     "cell_type": "markdown",
     "checksum": "f14e85d0864ca83d58287530b2d098dc",
     "grade": false,
     "grade_id": "cell-b267800a70b030f5",
     "locked": true,
     "schema_version": 3,
     "solution": false,
     "task": false
    }
   },
   "source": [
    "### Question 7.6B (1pt)\n",
    "\n",
    "Verify the above purity score by computing the purity of each individual cluster. Write this in a markdown cell below:"
   ]
  },
  {
   "cell_type": "markdown",
   "metadata": {
    "deletable": false,
    "nbgrader": {
     "cell_type": "markdown",
     "checksum": "5ffb8798f68522414719b5f84e22eb9b",
     "grade": true,
     "grade_id": "cell-7d63fb277a168c14",
     "locked": false,
     "points": 1,
     "schema_version": 3,
     "solution": true,
     "task": false
    }
   },
   "source": [
    "YOUR ANSWER HERE"
   ]
  }
 ],
 "metadata": {
  "kernelspec": {
   "display_name": "Python 3",
   "language": "python",
   "name": "python3"
  },
  "language_info": {
   "codemirror_mode": {
    "name": "ipython",
    "version": 3
   },
   "file_extension": ".py",
   "mimetype": "text/x-python",
   "name": "python",
   "nbconvert_exporter": "python",
   "pygments_lexer": "ipython3",
   "version": "3.8.11"
  }
 },
 "nbformat": 4,
 "nbformat_minor": 2
}
